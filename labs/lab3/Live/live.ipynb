{
  "cells": [
    {
      "cell_type": "code",
      "execution_count": 4,
      "metadata": {
        "id": "mp797P_cI-70"
      },
      "outputs": [],
      "source": [
        "import nltk\n",
        "import numpy as np\n",
        "from scipy.stats import pearsonr\n",
        "import sim_cal\n",
        "import matplotlib.pyplot as plt"
      ]
    },
    {
      "cell_type": "code",
      "execution_count": null,
      "metadata": {
        "id": "Ynyg0YA9I-72",
        "outputId": "22277bb6-a9a8-4b87-da0e-b19c6538eac4"
      },
      "outputs": [
        {
          "name": "stderr",
          "output_type": "stream",
          "text": [
            "[nltk_data] Downloading package averaged_perceptron_tagger_eng to\n",
            "[nltk_data]     D:/misc/Projects/Python/NLP/misc...\n",
            "[nltk_data]   Unzipping taggers\\averaged_perceptron_tagger_eng.zip.\n"
          ]
        },
        {
          "data": {
            "text/plain": [
              "True"
            ]
          },
          "execution_count": 29,
          "metadata": {},
          "output_type": "execute_result"
        }
      ],
      "source": [
        "path='D:/misc/Projects/Python/NLP/misc'\n",
        "nltk.data.path.append(path)\n",
        "nltk.download('averaged_perceptron_tagger_eng',download_dir=path)"
      ]
    },
    {
      "cell_type": "code",
      "execution_count": 2,
      "metadata": {
        "id": "dF5CUp6fI-72"
      },
      "outputs": [],
      "source": [
        "with open('msr_paraphrase_corpus.txt','r') as f:\n",
        "    t=f.readlines()[1:]\n",
        "for i in range(len(t)):\n",
        "    split=t[i].split('\\t')\n",
        "    t[i]=[int(split[0]),split[3],split[4].strip('\\n')]"
      ]
    },
    {
      "cell_type": "markdown",
      "metadata": {
        "id": "9-2ITQO6I-73"
      },
      "source": [
        "## 1)"
      ]
    },
    {
      "cell_type": "code",
      "execution_count": null,
      "metadata": {
        "id": "DG92r9EzI-74",
        "outputId": "36f80cdc-f2d2-45a1-c191-81d5ff87e93b"
      },
      "outputs": [
        {
          "data": {
            "text/plain": [
              "[0, 0.54]"
            ]
          },
          "execution_count": 58,
          "metadata": {},
          "output_type": "execute_result"
        }
      ],
      "source": [
        "def evaluate(pair,num=0):\n",
        "    split=pair.copy()\n",
        "    return [split[0],sim_cal.Similarity(split[1],split[2],num)]\n",
        "evaluate(t[1])"
      ]
    },
    {
      "cell_type": "code",
      "execution_count": null,
      "metadata": {
        "id": "eotdjJHCI-74"
      },
      "outputs": [],
      "source": [
        "simscores=list(map(evaluate,t))"
      ]
    },
    {
      "cell_type": "code",
      "execution_count": null,
      "metadata": {
        "id": "Hb1k-t4tI-75",
        "outputId": "74e64945-92a9-45c0-db61-2453a6cc92f3"
      },
      "outputs": [
        {
          "data": {
            "text/plain": [
              "PearsonRResult(statistic=0.2605666859715297, pvalue=3.015849315732531e-64)"
            ]
          },
          "execution_count": 57,
          "metadata": {},
          "output_type": "execute_result"
        }
      ],
      "source": [
        "npsims=np.array(simscores)\n",
        "pearsonr(npsims[:,0],npsims[:,1])"
      ]
    },
    {
      "cell_type": "code",
      "execution_count": null,
      "metadata": {
        "id": "mf09qKqyI-76"
      },
      "outputs": [],
      "source": [
        "simscores_res=list(map(lambda x: evaluate(x,1),t))"
      ]
    },
    {
      "cell_type": "code",
      "execution_count": null,
      "metadata": {
        "id": "Ll7ygA4hI-76",
        "outputId": "69183536-0822-415b-ccc4-9d5be035c236"
      },
      "outputs": [
        {
          "data": {
            "text/plain": [
              "PearsonRResult(statistic=0.08305904725115089, pvalue=1.0942322511152532e-07)"
            ]
          },
          "execution_count": 60,
          "metadata": {},
          "output_type": "execute_result"
        }
      ],
      "source": [
        "npsims_res=np.array(simscores_res)\n",
        "pearsonr(npsims_res[:,0],npsims_res[:,1])"
      ]
    },
    {
      "cell_type": "code",
      "execution_count": null,
      "metadata": {
        "id": "dQT7XPjCI-77",
        "outputId": "59e75127-4679-48e6-b958-40593fff21c3"
      },
      "outputs": [
        {
          "data": {
            "text/plain": [
              "array([2.37940432e+299, 2.43415746e+299, 4.59816563e+299, ...,\n",
              "       2.64647924e+299, 4.52000000e+000, 4.22754553e+299])"
            ]
          },
          "execution_count": 70,
          "metadata": {},
          "output_type": "execute_result"
        }
      ],
      "source": [
        "npsims_res[:,1]"
      ]
    },
    {
      "cell_type": "markdown",
      "metadata": {
        "id": "JDWKvZ9GI-78"
      },
      "source": [
        "## 2)"
      ]
    },
    {
      "cell_type": "code",
      "execution_count": null,
      "metadata": {
        "id": "NgUrFosrI-79",
        "outputId": "7387ad4c-9f93-4adb-a28a-e71161632e6c"
      },
      "outputs": [
        {
          "name": "stderr",
          "output_type": "stream",
          "text": [
            "[nltk_data] Downloading package wordnet to\n",
            "[nltk_data]     C:\\Users\\emanu\\AppData\\Roaming\\nltk_data...\n",
            "[nltk_data]   Package wordnet is already up-to-date!\n"
          ]
        }
      ],
      "source": [
        "import nltk\n",
        "from nltk.corpus import wordnet as wn\n",
        "nltk.download('wordnet')\n",
        "from nltk.metrics import edit_distance\n",
        "import numpy as np\n",
        "\n",
        "def leacock_chodorow_similarity(word1, word2):\n",
        "    # Get the synsets for each word\n",
        "    synsets1 = wn.synsets(word1)\n",
        "    synsets2 = wn.synsets(word2)\n",
        "\n",
        "    # Initialize an empty list to store the path lengths\n",
        "    path_lengths = []\n",
        "\n",
        "    # Calculate the path length for each pair of synsets\n",
        "    for synset1 in synsets1:\n",
        "        for synset2 in synsets2:\n",
        "            path_length = synset1.shortest_path_distance(synset2)\n",
        "            if path_length is not None:\n",
        "                path_lengths.append(path_length)\n",
        "\n",
        "    # Calculate the shortest path length\n",
        "    if len(path_lengths) > 0:\n",
        "        shortest_path_length = min(path_lengths)\n",
        "    else:\n",
        "        shortest_path_length = np.inf\n",
        "\n",
        "    # Calculate the length of the longest common subsequence\n",
        "    lcs_length = edit_distance(word1, word2)\n",
        "\n",
        "    # Calculate the similarity score\n",
        "    if shortest_path_length==0:\n",
        "        similarity_score=1\n",
        "    elif shortest_path_length==np.inf:\n",
        "        similarity_score=0\n",
        "    else:\n",
        "        similarity_score = -np.log(lcs_length / (2 * shortest_path_length))\n",
        "\n",
        "\n",
        "    return similarity_score\n",
        "\n",
        "def word_similarity(w1, w2, num):\n",
        "    \"\"\"Calculate similarity between two words only if they share the same POS.\"\"\"\n",
        "    pos1 = sim_cal.get_wordnet_pos(w1)\n",
        "    pos2 = sim_cal.get_wordnet_pos(w2)\n",
        "\n",
        "    try:\n",
        "        similarity = leacock_chodorow_similarity(w1, w2)\n",
        "        if similarity:\n",
        "            return round(similarity, 2)\n",
        "    except nltk.corpus.reader.wordnet.WordNetError:\n",
        "        return 0\n",
        "    return 0\n",
        "\n",
        "def Similarity(T1, T2, num=0):\n",
        "    \"\"\"Calculate sentence-to-sentence similarity using TF-IDF and WordNet similarity.\"\"\"\n",
        "    words1 = sim_cal.preProcess(T1)\n",
        "    words2 = sim_cal.preProcess(T2)\n",
        "\n",
        "    tf = sim_cal.TfidfVectorizer(use_idf=True)\n",
        "    tf.fit_transform([' '.join(words1), ' '.join(words2)])\n",
        "\n",
        "    Idf = dict(zip(tf.get_feature_names_out(), tf.idf_))\n",
        "\n",
        "    Sim_score1 = 0\n",
        "    Sim_score2 = 0\n",
        "\n",
        "    for w1 in words1:\n",
        "        Max = 0\n",
        "        for w2 in words2:\n",
        "            score = word_similarity(w1, w2, num)\n",
        "            if Max < score:\n",
        "                Max = score\n",
        "        Sim_score1 += Max * Idf.get(w1, 0)\n",
        "    Sim_score1 /= sum([Idf.get(w1, 0) for w1 in words1])\n",
        "\n",
        "    for w2 in words2:\n",
        "        Max = 0\n",
        "        for w1 in words1:\n",
        "            score = word_similarity(w1, w2, num)\n",
        "            if Max < score:\n",
        "                Max = score\n",
        "        Sim_score2 += Max * Idf.get(w2, 0)\n",
        "    Sim_score2 /= sum([Idf.get(w2, 0) for w2 in words2])\n",
        "\n",
        "    Sim = (Sim_score1 + Sim_score2) / 2\n",
        "\n",
        "    return round(Sim, 2)"
      ]
    },
    {
      "cell_type": "code",
      "execution_count": null,
      "metadata": {
        "id": "-Zon5Sk9I-79",
        "outputId": "e2a4b5c9-1c6d-40a6-d49d-e7982de4021f"
      },
      "outputs": [],
      "source": [
        "def cust_evaluate(pair):\n",
        "    split=pair.copy()\n",
        "    return [split[0],Similarity(split[1],split[2])]"
      ]
    },
    {
      "cell_type": "code",
      "execution_count": null,
      "metadata": {
        "id": "Jcq4rHNII-7-"
      },
      "outputs": [],
      "source": [
        "simscores_lcs=list(map(lambda x: cust_evaluate(x),t))"
      ]
    },
    {
      "cell_type": "code",
      "execution_count": null,
      "metadata": {
        "id": "dgfF4cxiI-7-",
        "outputId": "7c798dfc-b853-4967-f005-320266af0808"
      },
      "outputs": [
        {
          "data": {
            "text/plain": [
              "PearsonRResult(statistic=0.10856297111917781, pvalue=3.666655311794204e-12)"
            ]
          },
          "execution_count": 98,
          "metadata": {},
          "output_type": "execute_result"
        }
      ],
      "source": [
        "npsims_lcs=np.array(simscores_lcs)\n",
        "pearsonr(npsims_lcs[:,0],npsims_lcs[:,1])"
      ]
    },
    {
      "cell_type": "code",
      "execution_count": null,
      "metadata": {
        "id": "bFagPgTsI-7-",
        "outputId": "3adc46d0-05c4-40d2-f283-b49120f31014"
      },
      "outputs": [
        {
          "data": {
            "text/html": [
              "<div>\n",
              "<style scoped>\n",
              "    .dataframe tbody tr th:only-of-type {\n",
              "        vertical-align: middle;\n",
              "    }\n",
              "\n",
              "    .dataframe tbody tr th {\n",
              "        vertical-align: top;\n",
              "    }\n",
              "\n",
              "    .dataframe thead th {\n",
              "        text-align: right;\n",
              "    }\n",
              "</style>\n",
              "<table border=\"1\" class=\"dataframe\">\n",
              "  <thead>\n",
              "    <tr style=\"text-align: right;\">\n",
              "      <th></th>\n",
              "      <th>Label</th>\n",
              "      <th>wup</th>\n",
              "      <th>lcs</th>\n",
              "    </tr>\n",
              "  </thead>\n",
              "  <tbody>\n",
              "    <tr>\n",
              "      <th>0</th>\n",
              "      <td>1.0</td>\n",
              "      <td>0.75</td>\n",
              "      <td>0.72</td>\n",
              "    </tr>\n",
              "    <tr>\n",
              "      <th>1</th>\n",
              "      <td>0.0</td>\n",
              "      <td>0.54</td>\n",
              "      <td>0.93</td>\n",
              "    </tr>\n",
              "    <tr>\n",
              "      <th>2</th>\n",
              "      <td>1.0</td>\n",
              "      <td>0.69</td>\n",
              "      <td>1.33</td>\n",
              "    </tr>\n",
              "    <tr>\n",
              "      <th>3</th>\n",
              "      <td>0.0</td>\n",
              "      <td>0.72</td>\n",
              "      <td>1.24</td>\n",
              "    </tr>\n",
              "    <tr>\n",
              "      <th>4</th>\n",
              "      <td>1.0</td>\n",
              "      <td>0.72</td>\n",
              "      <td>1.32</td>\n",
              "    </tr>\n",
              "    <tr>\n",
              "      <th>...</th>\n",
              "      <td>...</td>\n",
              "      <td>...</td>\n",
              "      <td>...</td>\n",
              "    </tr>\n",
              "    <tr>\n",
              "      <th>4071</th>\n",
              "      <td>1.0</td>\n",
              "      <td>0.47</td>\n",
              "      <td>1.02</td>\n",
              "    </tr>\n",
              "    <tr>\n",
              "      <th>4072</th>\n",
              "      <td>0.0</td>\n",
              "      <td>0.61</td>\n",
              "      <td>1.11</td>\n",
              "    </tr>\n",
              "    <tr>\n",
              "      <th>4073</th>\n",
              "      <td>1.0</td>\n",
              "      <td>0.74</td>\n",
              "      <td>1.18</td>\n",
              "    </tr>\n",
              "    <tr>\n",
              "      <th>4074</th>\n",
              "      <td>1.0</td>\n",
              "      <td>0.57</td>\n",
              "      <td>1.12</td>\n",
              "    </tr>\n",
              "    <tr>\n",
              "      <th>4075</th>\n",
              "      <td>0.0</td>\n",
              "      <td>0.66</td>\n",
              "      <td>0.93</td>\n",
              "    </tr>\n",
              "  </tbody>\n",
              "</table>\n",
              "<p>4076 rows × 3 columns</p>\n",
              "</div>"
            ],
            "text/plain": [
              "      Label   wup   lcs\n",
              "0       1.0  0.75  0.72\n",
              "1       0.0  0.54  0.93\n",
              "2       1.0  0.69  1.33\n",
              "3       0.0  0.72  1.24\n",
              "4       1.0  0.72  1.32\n",
              "...     ...   ...   ...\n",
              "4071    1.0  0.47  1.02\n",
              "4072    0.0  0.61  1.11\n",
              "4073    1.0  0.74  1.18\n",
              "4074    1.0  0.57  1.12\n",
              "4075    0.0  0.66  0.93\n",
              "\n",
              "[4076 rows x 3 columns]"
            ]
          },
          "execution_count": 127,
          "metadata": {},
          "output_type": "execute_result"
        }
      ],
      "source": [
        "from pandas import DataFrame\n",
        "\n",
        "df=DataFrame({'Label': npsims[:,0],'wup': npsims[:,1],'lcs': npsims_lcs[:,1]})\n",
        "df"
      ]
    },
    {
      "cell_type": "code",
      "execution_count": null,
      "metadata": {
        "id": "rdNNovo-I-7_",
        "outputId": "943c5431-c42a-4d2a-a510-e8398b2ec2bb"
      },
      "outputs": [
        {
          "data": {
            "image/png": "[encoded data removed]",
            "text/plain": [
              "<Figure size 640x480 with 1 Axes>"
            ]
          },
          "metadata": {},
          "output_type": "display_data"
        }
      ],
      "source": [
        "from sklearn.metrics import roc_curve, auc\n",
        "import matplotlib.pyplot as plt\n",
        "\n",
        "quality = npsims[:,0]\n",
        "proba  = npsims[:,1]\n",
        "\n",
        "fpr, tpr, thresholds = roc_curve(quality, proba)\n",
        "roc_auc = auc(fpr, tpr)\n",
        "# Plot the ROC curve\n",
        "plt.figure()\n",
        "plt.plot(fpr, tpr, label='ROC curve (area = %0.2f)' % roc_auc)\n",
        "plt.plot([0, 1], [0, 1], 'k--', label='No Skill')\n",
        "plt.xlim([0.0, 1.0])\n",
        "plt.ylim([0.0, 1.05])\n",
        "plt.xlabel('False Positive Rate')\n",
        "plt.ylabel('True Positive Rate')\n",
        "\n",
        "plt.title('ROC Curve')\n",
        "for i, threshold in enumerate(thresholds):\n",
        "    plt.annotate(f'{threshold:.2f}', (fpr[i], tpr[i]), textcoords=\"offset points\", xytext=(0,10), ha='center')\n",
        "plt.legend()\n",
        "plt.show()"
      ]
    },
    {
      "cell_type": "markdown",
      "metadata": {
        "id": "R9RUlgw7I-7_"
      },
      "source": [
        "## We can choose value 0.66"
      ]
    },
    {
      "cell_type": "code",
      "execution_count": null,
      "metadata": {
        "id": "sWK5RiuWI-7_",
        "outputId": "4dea663d-2620-40ee-b3f6-9d10da7cde4c"
      },
      "outputs": [
        {
          "data": {
            "text/plain": [
              "'0.616045142296369 accuracy'"
            ]
          },
          "execution_count": 126,
          "metadata": {},
          "output_type": "execute_result"
        }
      ],
      "source": [
        "#calculate accuracy using that threshold\n",
        "threshold=0.66\n",
        "wuplabels=npsims[:,1]\n",
        "wuplabels=wuplabels>0.66\n",
        "f'{np.sum(wuplabels==npsims[:,0])/npsims[:,0].size} accuracy'"
      ]
    },
    {
      "cell_type": "markdown",
      "metadata": {
        "id": "Rt60MvEDI-7_"
      },
      "source": [
        "## 4)"
      ]
    },
    {
      "cell_type": "code",
      "execution_count": null,
      "metadata": {
        "id": "z8G3v7cHI-8A",
        "outputId": "769ec421-0274-4c0a-d1a4-d1959e05b3a1"
      },
      "outputs": [
        {
          "name": "stdout",
          "output_type": "stream",
          "text": [
            "Length of incorrect matches:  1285\n"
          ]
        },
        {
          "data": {
            "text/html": [
              "<div>\n",
              "<style scoped>\n",
              "    .dataframe tbody tr th:only-of-type {\n",
              "        vertical-align: middle;\n",
              "    }\n",
              "\n",
              "    .dataframe tbody tr th {\n",
              "        vertical-align: top;\n",
              "    }\n",
              "\n",
              "    .dataframe thead th {\n",
              "        text-align: right;\n",
              "    }\n",
              "</style>\n",
              "<table border=\"1\" class=\"dataframe\">\n",
              "  <thead>\n",
              "    <tr style=\"text-align: right;\">\n",
              "      <th></th>\n",
              "      <th>Quality</th>\n",
              "      <th>ID1</th>\n",
              "      <th>ID2</th>\n",
              "      <th>String1</th>\n",
              "      <th>String2</th>\n",
              "    </tr>\n",
              "  </thead>\n",
              "  <tbody>\n",
              "    <tr>\n",
              "      <th>8</th>\n",
              "      <td>0</td>\n",
              "      <td>3114205</td>\n",
              "      <td>3114194</td>\n",
              "      <td>That compared with $35.18 million, or 24 cents...</td>\n",
              "      <td>Earnings were affected by a non-recurring $8 m...</td>\n",
              "    </tr>\n",
              "    <tr>\n",
              "      <th>19</th>\n",
              "      <td>0</td>\n",
              "      <td>1713015</td>\n",
              "      <td>1712982</td>\n",
              "      <td>A BMI of 25 or above is considered overweight;...</td>\n",
              "      <td>A BMI between 18.5 and 24.9 is considered norm...</td>\n",
              "    </tr>\n",
              "    <tr>\n",
              "      <th>28</th>\n",
              "      <td>0</td>\n",
              "      <td>1783137</td>\n",
              "      <td>1782659</td>\n",
              "      <td>No dates have been set for the civil or the cr...</td>\n",
              "      <td>No dates have been set for the criminal or civ...</td>\n",
              "    </tr>\n",
              "    <tr>\n",
              "      <th>56</th>\n",
              "      <td>0</td>\n",
              "      <td>2506257</td>\n",
              "      <td>2506206</td>\n",
              "      <td>The women then had follow-up examinations afte...</td>\n",
              "      <td>The women had follow-up examinations in 1974-7...</td>\n",
              "    </tr>\n",
              "    <tr>\n",
              "      <th>60</th>\n",
              "      <td>0</td>\n",
              "      <td>2277501</td>\n",
              "      <td>2277502</td>\n",
              "      <td>American Masters: Arthur Miller, Elia Kazan an...</td>\n",
              "      <td>Note the subheading of this terrible parable i...</td>\n",
              "    </tr>\n",
              "  </tbody>\n",
              "</table>\n",
              "</div>"
            ],
            "text/plain": [
              "    Quality  ...                                            String2\n",
              "8         0  ...  Earnings were affected by a non-recurring $8 m...\n",
              "19        0  ...  A BMI between 18.5 and 24.9 is considered norm...\n",
              "28        0  ...  No dates have been set for the criminal or civ...\n",
              "56        0  ...  The women had follow-up examinations in 1974-7...\n",
              "60        0  ...  Note the subheading of this terrible parable i...\n",
              "\n",
              "[5 rows x 5 columns]"
            ]
          },
          "execution_count": 118,
          "metadata": {},
          "output_type": "execute_result"
        }
      ],
      "source": [
        "import pandas as pd\n",
        "\n",
        "df = pd.read_csv('msr_paraphrase_corpus.txt', delimiter='\\t', usecols=[0, 1, 2, 3, 4])\n",
        "incorrect_matches = df[df['Quality'] == 0]\n",
        "incorrect_matches.head()\n",
        "print(\"Length of incorrect matches: \", len(incorrect_matches))\n",
        "# Define a list of words quantifiers such as negation\n",
        "quantifiers = ['not', 'no', 'never', 'none', 'nobody', 'nothing', 'neither', 'nowhere', 'hardly', 'scarcely', 'barely']\n",
        "\n",
        "# Join the list into a single string pattern\n",
        "pattern = '|'.join(quantifiers)\n",
        "\n",
        "mask = incorrect_matches['String1'].str.contains(pattern, case=False, na=False) | incorrect_matches['String2'].str.contains(pattern, case=False, na=False)\n",
        "\n",
        "# Filter the DataFrame\n",
        "result_df = incorrect_matches[mask]\n",
        "result_df.head()\n"
      ]
    },
    {
      "cell_type": "code",
      "execution_count": null,
      "metadata": {
        "id": "Fc43RaL8I-8A",
        "outputId": "89ee4d7f-f3be-4f35-b350-d53314c6cea2"
      },
      "outputs": [
        {
          "name": "stdout",
          "output_type": "stream",
          "text": [
            "Length of incorrect matches with quantifiers:  408\n",
            "Percentage of incorrect matches with quantifiers: 31.75%\n"
          ]
        }
      ],
      "source": [
        "print(\"Length of incorrect matches with quantifiers: \", len(result_df))\n",
        "percentage = round(len(result_df) / len(incorrect_matches) * 100, 2)\n",
        "print(f\"Percentage of incorrect matches with quantifiers: {percentage}%\")"
      ]
    },
    {
      "cell_type": "markdown",
      "metadata": {
        "id": "yTTl5ShsI-8A"
      },
      "source": [
        "## 5)"
      ]
    },
    {
      "cell_type": "code",
      "execution_count": 11,
      "metadata": {
        "colab": {
          "base_uri": "https://localhost:8080/"
        },
        "id": "qBvZ-NIhI-8A",
        "outputId": "493058b4-399c-45f9-f8f8-9e8eb93436cf"
      },
      "outputs": [
        {
          "name": "stdout",
          "output_type": "stream",
          "text": [
            "/root/gensim-data/word2vec-google-news-300/word2vec-google-news-300.gz\n"
          ]
        }
      ],
      "source": [
        "#word2vec similarity\n",
        "import numpy as np\n",
        "from sklearn.metrics.pairwise import cosine_similarity\n",
        "import gensim.downloader as api\n",
        "from gensim.models import KeyedVectors\n",
        "\n",
        "path = api.load(\"word2vec-google-news-300\", return_path=True)\n",
        "print(path)\n",
        "\n",
        "# Load the word2vec model\n",
        "w2vmodel = KeyedVectors.load_word2vec_format(path, binary=True)\n",
        "glove_model = api.load(\"glove-wiki-gigaword-300\")\n",
        "\n",
        "\n",
        "def sentence_to_vector(sentence, model):\n",
        "    words = sentence.split()\n",
        "    word_vectors = [model[word] for word in words if word in model]\n",
        "    if not word_vectors:\n",
        "        return np.zeros(model.vector_size)\n",
        "    return np.mean(word_vectors, axis=0)\n",
        "\n",
        "def sentence_similarity(split, model):\n",
        "    sentence1=split[1]\n",
        "    sentence2=split[2]\n",
        "    vec1 = sentence_to_vector(sentence1, model)\n",
        "    vec2 = sentence_to_vector(sentence2, model)\n",
        "    return [int(split[0]),cosine_similarity([vec1], [vec2])[0][0]]\n"
      ]
    },
    {
      "cell_type": "code",
      "execution_count": 12,
      "metadata": {
        "id": "VPDs42kXI-8B"
      },
      "outputs": [],
      "source": [
        "#calculate for word2vec\n",
        "simscores_w2v=list(map(lambda x: sentence_similarity(x,w2vmodel),t))"
      ]
    },
    {
      "cell_type": "code",
      "execution_count": 13,
      "metadata": {
        "colab": {
          "base_uri": "https://localhost:8080/"
        },
        "id": "CT-veyP9I-8B",
        "outputId": "04c6ced8-964b-4d6a-9849-ce8dca9bd3bd"
      },
      "outputs": [
        {
          "name": "stdout",
          "output_type": "stream",
          "text": [
            "PearsonRResult(statistic=0.3318047249650135, pvalue=2.447895319223956e-105)  for word2vec\n"
          ]
        }
      ],
      "source": [
        "npsims_w2v=np.array(simscores_w2v)\n",
        "print(pearsonr(npsims_w2v[:,0],npsims_w2v[:,1]),' for word2vec')"
      ]
    },
    {
      "cell_type": "code",
      "execution_count": 14,
      "metadata": {
        "id": "OHehkK5dI-8B"
      },
      "outputs": [],
      "source": [
        "simscores_gl=list(map(lambda x: sentence_similarity(x,glove_model),t))"
      ]
    },
    {
      "cell_type": "code",
      "execution_count": 15,
      "metadata": {
        "colab": {
          "base_uri": "https://localhost:8080/"
        },
        "id": "_1TLW-AaI-8B",
        "outputId": "ac42e8f7-0744-40d5-a84a-190c0e2f58bf"
      },
      "outputs": [
        {
          "name": "stdout",
          "output_type": "stream",
          "text": [
            "PearsonRResult(statistic=0.2952968985773041, pvalue=8.136667632370158e-83)  for glove\n"
          ]
        }
      ],
      "source": [
        "npsims_gl=np.array(simscores_gl)\n",
        "print(pearsonr(npsims_gl[:,0],npsims_gl[:,1]),' for glove')"
      ]
    },
    {
      "cell_type": "markdown",
      "metadata": {},
      "source": [
        "## In order to respect the deadline, we did not use fasttext because it was taking too long to download. However, the procedure is the same as what we have already done with the other models"
      ]
    },
    {
      "cell_type": "code",
      "execution_count": null,
      "metadata": {
        "colab": {
          "base_uri": "https://localhost:8080/"
        },
        "id": "fPA2TP59I-8C",
        "outputId": "e9023e53-b6a9-4aa5-8b10-a83b306ad225"
      },
      "outputs": [
        {
          "name": "stdout",
          "output_type": "stream",
          "text": [
            "Downloading https://dl.fbaipublicfiles.com/fasttext/vectors-crawl/cc.en.300.bin.gz\n",
            "\n"
          ]
        }
      ],
      "source": [
        "# Fasttext model for fasttext similarity\n",
        "import fasttext\n",
        "from sklearn.metrics.pairwise import cosine_similarity\n",
        "import numpy as np\n",
        "\n",
        "import fasttext.util\n",
        "\n",
        "# Load pre-trained FastText vectors\n",
        "fasttext.util.download_model('en', if_exists='ignore')  # English\n",
        "ft = fasttext.load_model('cc.en.300.bin')\n",
        "\n",
        "def sentence_embedding(sentence, model):\n",
        "    words = sentence.split()\n",
        "    word_embeddings = [model.get_word_vector(word) for word in words]\n",
        "    return np.mean(word_embeddings, axis=0)\n",
        "\n",
        "# Calculate the embedding for each sentence\n",
        "embedding_T1 = sentence_embedding(\"frase 1\", ft)\n",
        "embedding_T2 = sentence_embedding(\"frase 2\", ft)\n",
        "\n",
        "# Compute the cosine similarity between the two sentence embeddings\n",
        "similarity = cosine_similarity([embedding_T1], [embedding_T2])\n",
        "print(\"Fasttext similarity score:\", similarity[0][0])\n",
        "\n",
        "def fast_text_sim(split):\n",
        "    embedding_T1 = sentence_embedding(split[1], ft)\n",
        "    embedding_T2 = sentence_embedding(split[2], ft)\n",
        "    return [int(split[0]),cosine_similarity([embedding_T1],embedding_T2)]"
      ]
    },
    {
      "cell_type": "code",
      "execution_count": null,
      "metadata": {
        "colab": {
          "base_uri": "https://localhost:8080/",
          "height": 141
        },
        "id": "d4_ojov8I-8C",
        "outputId": "7e69100a-4e91-48e2-b054-0334ece6bbbc"
      },
      "outputs": [],
      "source": [
        "simscores_ft=list(map(lambda x: fast_text_sim(x),t))"
      ]
    },
    {
      "cell_type": "code",
      "execution_count": null,
      "metadata": {
        "id": "ThVFGFkOI-8C"
      },
      "outputs": [],
      "source": [
        "npsims_ft=np.array(simscores_ft)\n",
        "print(pearsonr(npsims_ft[:,0],npsims_ft[:,1]),' for fasttext')"
      ]
    },
    {
      "cell_type": "markdown",
      "metadata": {
        "id": "6c9eTUuZI-8C"
      },
      "source": [
        "## 6)"
      ]
    },
    {
      "cell_type": "code",
      "execution_count": 6,
      "metadata": {
        "id": "sldLIjSQI-8D"
      },
      "outputs": [],
      "source": [
        "from fuzzywuzzy import fuzz\n",
        "from nltk.stem import WordNetLemmatizer\n",
        "\n",
        "def sentence_similarity(split):\n",
        "    sentence1,sentence2=split[1:]\n",
        "    return [int(split[0]),fuzz.ratio(sentence1, sentence2)]"
      ]
    },
    {
      "cell_type": "code",
      "execution_count": 7,
      "metadata": {
        "id": "OZ-noFecI-8D"
      },
      "outputs": [],
      "source": [
        "simscores_fw=list(map(lambda x: sentence_similarity(x),t))"
      ]
    },
    {
      "cell_type": "code",
      "execution_count": 9,
      "metadata": {
        "colab": {
          "base_uri": "https://localhost:8080/"
        },
        "id": "oR7g5hiTI-8D",
        "outputId": "b9970d82-19fc-41ce-d89e-1c7e86f6f7c9"
      },
      "outputs": [
        {
          "name": "stdout",
          "output_type": "stream",
          "text": [
            "PearsonRResult(statistic=0.387412117540374, pvalue=4.392708118146467e-146)  for fuzzywuzzy\n"
          ]
        }
      ],
      "source": [
        "npsims_fw=np.array(simscores_fw)\n",
        "print(pearsonr(npsims_fw[:,0],npsims_fw[:,1]), ' for fuzzywuzzy')"
      ]
    },
    {
      "cell_type": "code",
      "execution_count": 16,
      "metadata": {
        "colab": {
          "base_uri": "https://localhost:8080/",
          "height": 424
        },
        "id": "3z83i7nmI-8D",
        "outputId": "43106090-be8d-445d-cf7b-4db531e9f8ac"
      },
      "outputs": [
        {
          "data": {
            "application/vnd.google.colaboratory.intrinsic+json": {
              "summary": "{\n  \"name\": \"df\",\n  \"rows\": 4076,\n  \"fields\": [\n    {\n      \"column\": \"Label\",\n      \"properties\": {\n        \"dtype\": \"number\",\n        \"std\": 0.46827625189749317,\n        \"min\": 0.0,\n        \"max\": 1.0,\n        \"num_unique_values\": 2,\n        \"samples\": [\n          0.0,\n          1.0\n        ],\n        \"semantic_type\": \"\",\n        \"description\": \"\"\n      }\n    },\n    {\n      \"column\": \"word2vec\",\n      \"properties\": {\n        \"dtype\": \"number\",\n        \"std\": 0.087499738820266,\n        \"min\": 0.3473958671092987,\n        \"max\": 1.0000001192092896,\n        \"num_unique_values\": 4056,\n        \"samples\": [\n          0.8470152616500854,\n          0.930027186870575\n        ],\n        \"semantic_type\": \"\",\n        \"description\": \"\"\n      }\n    },\n    {\n      \"column\": \"glove\",\n      \"properties\": {\n        \"dtype\": \"number\",\n        \"std\": 0.07285778373772243,\n        \"min\": -0.14520363509655,\n        \"max\": 1.0,\n        \"num_unique_values\": 4036,\n        \"samples\": [\n          0.9188758134841919,\n          0.9888187646865845\n        ],\n        \"semantic_type\": \"\",\n        \"description\": \"\"\n      }\n    },\n    {\n      \"column\": \"fuzzywuzzy\",\n      \"properties\": {\n        \"dtype\": \"number\",\n        \"std\": 12,\n        \"min\": 14,\n        \"max\": 99,\n        \"num_unique_values\": 77,\n        \"samples\": [\n          61,\n          93\n        ],\n        \"semantic_type\": \"\",\n        \"description\": \"\"\n      }\n    }\n  ]\n}",
              "type": "dataframe",
              "variable_name": "df"
            },
            "text/html": [
              "\n",
              "  <div id=\"df-f6c4fddb-1cbb-4d17-b1ed-cc208f0d6d80\" class=\"colab-df-container\">\n",
              "    <div>\n",
              "<style scoped>\n",
              "    .dataframe tbody tr th:only-of-type {\n",
              "        vertical-align: middle;\n",
              "    }\n",
              "\n",
              "    .dataframe tbody tr th {\n",
              "        vertical-align: top;\n",
              "    }\n",
              "\n",
              "    .dataframe thead th {\n",
              "        text-align: right;\n",
              "    }\n",
              "</style>\n",
              "<table border=\"1\" class=\"dataframe\">\n",
              "  <thead>\n",
              "    <tr style=\"text-align: right;\">\n",
              "      <th></th>\n",
              "      <th>Label</th>\n",
              "      <th>word2vec</th>\n",
              "      <th>glove</th>\n",
              "      <th>fuzzywuzzy</th>\n",
              "    </tr>\n",
              "  </thead>\n",
              "  <tbody>\n",
              "    <tr>\n",
              "      <th>0</th>\n",
              "      <td>1.0</td>\n",
              "      <td>0.947899</td>\n",
              "      <td>0.962642</td>\n",
              "      <td>65</td>\n",
              "    </tr>\n",
              "    <tr>\n",
              "      <th>1</th>\n",
              "      <td>0.0</td>\n",
              "      <td>0.771061</td>\n",
              "      <td>0.909631</td>\n",
              "      <td>63</td>\n",
              "    </tr>\n",
              "    <tr>\n",
              "      <th>2</th>\n",
              "      <td>1.0</td>\n",
              "      <td>0.891396</td>\n",
              "      <td>0.962313</td>\n",
              "      <td>70</td>\n",
              "    </tr>\n",
              "    <tr>\n",
              "      <th>3</th>\n",
              "      <td>0.0</td>\n",
              "      <td>0.844657</td>\n",
              "      <td>0.948088</td>\n",
              "      <td>62</td>\n",
              "    </tr>\n",
              "    <tr>\n",
              "      <th>4</th>\n",
              "      <td>1.0</td>\n",
              "      <td>0.838936</td>\n",
              "      <td>0.936992</td>\n",
              "      <td>61</td>\n",
              "    </tr>\n",
              "    <tr>\n",
              "      <th>...</th>\n",
              "      <td>...</td>\n",
              "      <td>...</td>\n",
              "      <td>...</td>\n",
              "      <td>...</td>\n",
              "    </tr>\n",
              "    <tr>\n",
              "      <th>4071</th>\n",
              "      <td>1.0</td>\n",
              "      <td>0.835489</td>\n",
              "      <td>0.951334</td>\n",
              "      <td>65</td>\n",
              "    </tr>\n",
              "    <tr>\n",
              "      <th>4072</th>\n",
              "      <td>0.0</td>\n",
              "      <td>0.822037</td>\n",
              "      <td>0.944030</td>\n",
              "      <td>66</td>\n",
              "    </tr>\n",
              "    <tr>\n",
              "      <th>4073</th>\n",
              "      <td>1.0</td>\n",
              "      <td>0.925762</td>\n",
              "      <td>0.971995</td>\n",
              "      <td>80</td>\n",
              "    </tr>\n",
              "    <tr>\n",
              "      <th>4074</th>\n",
              "      <td>1.0</td>\n",
              "      <td>0.582961</td>\n",
              "      <td>0.833310</td>\n",
              "      <td>47</td>\n",
              "    </tr>\n",
              "    <tr>\n",
              "      <th>4075</th>\n",
              "      <td>0.0</td>\n",
              "      <td>0.886500</td>\n",
              "      <td>0.917314</td>\n",
              "      <td>84</td>\n",
              "    </tr>\n",
              "  </tbody>\n",
              "</table>\n",
              "<p>4076 rows × 4 columns</p>\n",
              "</div>\n",
              "    <div class=\"colab-df-buttons\">\n",
              "\n",
              "  <div class=\"colab-df-container\">\n",
              "    <button class=\"colab-df-convert\" onclick=\"convertToInteractive('df-f6c4fddb-1cbb-4d17-b1ed-cc208f0d6d80')\"\n",
              "            title=\"Convert this dataframe to an interactive table.\"\n",
              "            style=\"display:none;\">\n",
              "\n",
              "  <svg xmlns=\"http://www.w3.org/2000/svg\" height=\"24px\" viewBox=\"0 -960 960 960\">\n",
              "    <path d=\"M120-120v-720h720v720H120Zm60-500h600v-160H180v160Zm220 220h160v-160H400v160Zm0 220h160v-160H400v160ZM180-400h160v-160H180v160Zm440 0h160v-160H620v160ZM180-180h160v-160H180v160Zm440 0h160v-160H620v160Z\"/>\n",
              "  </svg>\n",
              "    </button>\n",
              "\n",
              "  <style>\n",
              "    .colab-df-container {\n",
              "      display:flex;\n",
              "      gap: 12px;\n",
              "    }\n",
              "\n",
              "    .colab-df-convert {\n",
              "      background-color: #E8F0FE;\n",
              "      border: none;\n",
              "      border-radius: 50%;\n",
              "      cursor: pointer;\n",
              "      display: none;\n",
              "      fill: #1967D2;\n",
              "      height: 32px;\n",
              "      padding: 0 0 0 0;\n",
              "      width: 32px;\n",
              "    }\n",
              "\n",
              "    .colab-df-convert:hover {\n",
              "      background-color: #E2EBFA;\n",
              "      box-shadow: 0px 1px 2px rgba(60, 64, 67, 0.3), 0px 1px 3px 1px rgba(60, 64, 67, 0.15);\n",
              "      fill: #174EA6;\n",
              "    }\n",
              "\n",
              "    .colab-df-buttons div {\n",
              "      margin-bottom: 4px;\n",
              "    }\n",
              "\n",
              "    [theme=dark] .colab-df-convert {\n",
              "      background-color: #3B4455;\n",
              "      fill: #D2E3FC;\n",
              "    }\n",
              "\n",
              "    [theme=dark] .colab-df-convert:hover {\n",
              "      background-color: #434B5C;\n",
              "      box-shadow: 0px 1px 3px 1px rgba(0, 0, 0, 0.15);\n",
              "      filter: drop-shadow(0px 1px 2px rgba(0, 0, 0, 0.3));\n",
              "      fill: #FFFFFF;\n",
              "    }\n",
              "  </style>\n",
              "\n",
              "    <script>\n",
              "      const buttonEl =\n",
              "        document.querySelector('#df-f6c4fddb-1cbb-4d17-b1ed-cc208f0d6d80 button.colab-df-convert');\n",
              "      buttonEl.style.display =\n",
              "        google.colab.kernel.accessAllowed ? 'block' : 'none';\n",
              "\n",
              "      async function convertToInteractive(key) {\n",
              "        const element = document.querySelector('#df-f6c4fddb-1cbb-4d17-b1ed-cc208f0d6d80');\n",
              "        const dataTable =\n",
              "          await google.colab.kernel.invokeFunction('convertToInteractive',\n",
              "                                                    [key], {});\n",
              "        if (!dataTable) return;\n",
              "\n",
              "        const docLinkHtml = 'Like what you see? Visit the ' +\n",
              "          '<a target=\"_blank\" href=https://colab.research.google.com/notebooks/data_table.ipynb>data table notebook</a>'\n",
              "          + ' to learn more about interactive tables.';\n",
              "        element.innerHTML = '';\n",
              "        dataTable['output_type'] = 'display_data';\n",
              "        await google.colab.output.renderOutput(dataTable, element);\n",
              "        const docLink = document.createElement('div');\n",
              "        docLink.innerHTML = docLinkHtml;\n",
              "        element.appendChild(docLink);\n",
              "      }\n",
              "    </script>\n",
              "  </div>\n",
              "\n",
              "\n",
              "<div id=\"df-213be16a-2905-444e-9c5f-32e7ed56f263\">\n",
              "  <button class=\"colab-df-quickchart\" onclick=\"quickchart('df-213be16a-2905-444e-9c5f-32e7ed56f263')\"\n",
              "            title=\"Suggest charts\"\n",
              "            style=\"display:none;\">\n",
              "\n",
              "<svg xmlns=\"http://www.w3.org/2000/svg\" height=\"24px\"viewBox=\"0 0 24 24\"\n",
              "     width=\"24px\">\n",
              "    <g>\n",
              "        <path d=\"M19 3H5c-1.1 0-2 .9-2 2v14c0 1.1.9 2 2 2h14c1.1 0 2-.9 2-2V5c0-1.1-.9-2-2-2zM9 17H7v-7h2v7zm4 0h-2V7h2v10zm4 0h-2v-4h2v4z\"/>\n",
              "    </g>\n",
              "</svg>\n",
              "  </button>\n",
              "\n",
              "<style>\n",
              "  .colab-df-quickchart {\n",
              "      --bg-color: #E8F0FE;\n",
              "      --fill-color: #1967D2;\n",
              "      --hover-bg-color: #E2EBFA;\n",
              "      --hover-fill-color: #174EA6;\n",
              "      --disabled-fill-color: #AAA;\n",
              "      --disabled-bg-color: #DDD;\n",
              "  }\n",
              "\n",
              "  [theme=dark] .colab-df-quickchart {\n",
              "      --bg-color: #3B4455;\n",
              "      --fill-color: #D2E3FC;\n",
              "      --hover-bg-color: #434B5C;\n",
              "      --hover-fill-color: #FFFFFF;\n",
              "      --disabled-bg-color: #3B4455;\n",
              "      --disabled-fill-color: #666;\n",
              "  }\n",
              "\n",
              "  .colab-df-quickchart {\n",
              "    background-color: var(--bg-color);\n",
              "    border: none;\n",
              "    border-radius: 50%;\n",
              "    cursor: pointer;\n",
              "    display: none;\n",
              "    fill: var(--fill-color);\n",
              "    height: 32px;\n",
              "    padding: 0;\n",
              "    width: 32px;\n",
              "  }\n",
              "\n",
              "  .colab-df-quickchart:hover {\n",
              "    background-color: var(--hover-bg-color);\n",
              "    box-shadow: 0 1px 2px rgba(60, 64, 67, 0.3), 0 1px 3px 1px rgba(60, 64, 67, 0.15);\n",
              "    fill: var(--button-hover-fill-color);\n",
              "  }\n",
              "\n",
              "  .colab-df-quickchart-complete:disabled,\n",
              "  .colab-df-quickchart-complete:disabled:hover {\n",
              "    background-color: var(--disabled-bg-color);\n",
              "    fill: var(--disabled-fill-color);\n",
              "    box-shadow: none;\n",
              "  }\n",
              "\n",
              "  .colab-df-spinner {\n",
              "    border: 2px solid var(--fill-color);\n",
              "    border-color: transparent;\n",
              "    border-bottom-color: var(--fill-color);\n",
              "    animation:\n",
              "      spin 1s steps(1) infinite;\n",
              "  }\n",
              "\n",
              "  @keyframes spin {\n",
              "    0% {\n",
              "      border-color: transparent;\n",
              "      border-bottom-color: var(--fill-color);\n",
              "      border-left-color: var(--fill-color);\n",
              "    }\n",
              "    20% {\n",
              "      border-color: transparent;\n",
              "      border-left-color: var(--fill-color);\n",
              "      border-top-color: var(--fill-color);\n",
              "    }\n",
              "    30% {\n",
              "      border-color: transparent;\n",
              "      border-left-color: var(--fill-color);\n",
              "      border-top-color: var(--fill-color);\n",
              "      border-right-color: var(--fill-color);\n",
              "    }\n",
              "    40% {\n",
              "      border-color: transparent;\n",
              "      border-right-color: var(--fill-color);\n",
              "      border-top-color: var(--fill-color);\n",
              "    }\n",
              "    60% {\n",
              "      border-color: transparent;\n",
              "      border-right-color: var(--fill-color);\n",
              "    }\n",
              "    80% {\n",
              "      border-color: transparent;\n",
              "      border-right-color: var(--fill-color);\n",
              "      border-bottom-color: var(--fill-color);\n",
              "    }\n",
              "    90% {\n",
              "      border-color: transparent;\n",
              "      border-bottom-color: var(--fill-color);\n",
              "    }\n",
              "  }\n",
              "</style>\n",
              "\n",
              "  <script>\n",
              "    async function quickchart(key) {\n",
              "      const quickchartButtonEl =\n",
              "        document.querySelector('#' + key + ' button');\n",
              "      quickchartButtonEl.disabled = true;  // To prevent multiple clicks.\n",
              "      quickchartButtonEl.classList.add('colab-df-spinner');\n",
              "      try {\n",
              "        const charts = await google.colab.kernel.invokeFunction(\n",
              "            'suggestCharts', [key], {});\n",
              "      } catch (error) {\n",
              "        console.error('Error during call to suggestCharts:', error);\n",
              "      }\n",
              "      quickchartButtonEl.classList.remove('colab-df-spinner');\n",
              "      quickchartButtonEl.classList.add('colab-df-quickchart-complete');\n",
              "    }\n",
              "    (() => {\n",
              "      let quickchartButtonEl =\n",
              "        document.querySelector('#df-213be16a-2905-444e-9c5f-32e7ed56f263 button');\n",
              "      quickchartButtonEl.style.display =\n",
              "        google.colab.kernel.accessAllowed ? 'block' : 'none';\n",
              "    })();\n",
              "  </script>\n",
              "</div>\n",
              "\n",
              "  <div id=\"id_5f848860-83a7-4137-97b0-d5dcb1b673f0\">\n",
              "    <style>\n",
              "      .colab-df-generate {\n",
              "        background-color: #E8F0FE;\n",
              "        border: none;\n",
              "        border-radius: 50%;\n",
              "        cursor: pointer;\n",
              "        display: none;\n",
              "        fill: #1967D2;\n",
              "        height: 32px;\n",
              "        padding: 0 0 0 0;\n",
              "        width: 32px;\n",
              "      }\n",
              "\n",
              "      .colab-df-generate:hover {\n",
              "        background-color: #E2EBFA;\n",
              "        box-shadow: 0px 1px 2px rgba(60, 64, 67, 0.3), 0px 1px 3px 1px rgba(60, 64, 67, 0.15);\n",
              "        fill: #174EA6;\n",
              "      }\n",
              "\n",
              "      [theme=dark] .colab-df-generate {\n",
              "        background-color: #3B4455;\n",
              "        fill: #D2E3FC;\n",
              "      }\n",
              "\n",
              "      [theme=dark] .colab-df-generate:hover {\n",
              "        background-color: #434B5C;\n",
              "        box-shadow: 0px 1px 3px 1px rgba(0, 0, 0, 0.15);\n",
              "        filter: drop-shadow(0px 1px 2px rgba(0, 0, 0, 0.3));\n",
              "        fill: #FFFFFF;\n",
              "      }\n",
              "    </style>\n",
              "    <button class=\"colab-df-generate\" onclick=\"generateWithVariable('df')\"\n",
              "            title=\"Generate code using this dataframe.\"\n",
              "            style=\"display:none;\">\n",
              "\n",
              "  <svg xmlns=\"http://www.w3.org/2000/svg\" height=\"24px\"viewBox=\"0 0 24 24\"\n",
              "       width=\"24px\">\n",
              "    <path d=\"M7,19H8.4L18.45,9,17,7.55,7,17.6ZM5,21V16.75L18.45,3.32a2,2,0,0,1,2.83,0l1.4,1.43a1.91,1.91,0,0,1,.58,1.4,1.91,1.91,0,0,1-.58,1.4L9.25,21ZM18.45,9,17,7.55Zm-12,3A5.31,5.31,0,0,0,4.9,8.1,5.31,5.31,0,0,0,1,6.5,5.31,5.31,0,0,0,4.9,4.9,5.31,5.31,0,0,0,6.5,1,5.31,5.31,0,0,0,8.1,4.9,5.31,5.31,0,0,0,12,6.5,5.46,5.46,0,0,0,6.5,12Z\"/>\n",
              "  </svg>\n",
              "    </button>\n",
              "    <script>\n",
              "      (() => {\n",
              "      const buttonEl =\n",
              "        document.querySelector('#id_5f848860-83a7-4137-97b0-d5dcb1b673f0 button.colab-df-generate');\n",
              "      buttonEl.style.display =\n",
              "        google.colab.kernel.accessAllowed ? 'block' : 'none';\n",
              "\n",
              "      buttonEl.onclick = () => {\n",
              "        google.colab.notebook.generateWithVariable('df');\n",
              "      }\n",
              "      })();\n",
              "    </script>\n",
              "  </div>\n",
              "\n",
              "    </div>\n",
              "  </div>\n"
            ],
            "text/plain": [
              "      Label  word2vec     glove  fuzzywuzzy\n",
              "0       1.0  0.947899  0.962642          65\n",
              "1       0.0  0.771061  0.909631          63\n",
              "2       1.0  0.891396  0.962313          70\n",
              "3       0.0  0.844657  0.948088          62\n",
              "4       1.0  0.838936  0.936992          61\n",
              "...     ...       ...       ...         ...\n",
              "4071    1.0  0.835489  0.951334          65\n",
              "4072    0.0  0.822037  0.944030          66\n",
              "4073    1.0  0.925762  0.971995          80\n",
              "4074    1.0  0.582961  0.833310          47\n",
              "4075    0.0  0.886500  0.917314          84\n",
              "\n",
              "[4076 rows x 4 columns]"
            ]
          },
          "execution_count": 16,
          "metadata": {},
          "output_type": "execute_result"
        }
      ],
      "source": [
        "from pandas import DataFrame\n",
        "\n",
        "df=DataFrame({'Label': npsims_w2v[:,0],'word2vec': npsims_w2v[:,1],'glove':npsims_gl[:,1],'fuzzywuzzy': npsims_fw[:,1]})\n",
        "df"
      ]
    },
    {
      "cell_type": "code",
      "execution_count": 12,
      "metadata": {},
      "outputs": [],
      "source": [
        "cat_embeddings=[np.random.normal(size=(100,500), loc=i*5) for i in range(6)]\n",
        "tweet_emoticons=range(6)"
      ]
    },
    {
      "cell_type": "code",
      "execution_count": 13,
      "metadata": {},
      "outputs": [
        {
          "data": {
            "image/png": "[encoded data removed]",
            "text/plain": [
              "<Figure size 640x480 with 1 Axes>"
            ]
          },
          "metadata": {},
          "output_type": "display_data"
        }
      ],
      "source": [
        "colors=['g','b','r','y','c','m']\n",
        "[plt.scatter(cat_embeddings[i][:,0],cat_embeddings[i][:,1], label=tweet_emoticons[i]) for i in range(len(cat_embeddings))]\n",
        "plt.legend()\n",
        "plt.show()"
      ]
    }
  ],
  "metadata": {
    "colab": {
      "provenance": []
    },
    "kernelspec": {
      "display_name": "Python 3",
      "language": "python",
      "name": "python3"
    },
    "language_info": {
      "codemirror_mode": {
        "name": "ipython",
        "version": 3
      },
      "file_extension": ".py",
      "mimetype": "text/x-python",
      "name": "python",
      "nbconvert_exporter": "python",
      "pygments_lexer": "ipython3",
      "version": "3.11.9"
    },
    "orig_nbformat": 4
  },
  "nbformat": 4,
  "nbformat_minor": 0
}
