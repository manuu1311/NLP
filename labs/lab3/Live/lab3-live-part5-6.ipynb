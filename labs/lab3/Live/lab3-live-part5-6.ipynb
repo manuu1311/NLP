{
 "cells": [
  {
   "cell_type": "markdown",
   "metadata": {},
   "source": [
    "# 5)"
   ]
  },
  {
   "cell_type": "code",
   "execution_count": null,
   "metadata": {},
   "outputs": [],
   "source": [
    "#word2vec similarity\n",
    "import numpy as np\n",
    "from sklearn.metrics.pairwise import cosine_similarity\n",
    "import gensim.downloader as api\n",
    "from gensim.models import KeyedVectors\n",
    "\n",
    "path = api.load(\"word2vec-google-news-300\", return_path=True)\n",
    "print(path)\n",
    "\n",
    "# Load the word2vec model\n",
    "w2vmodel = KeyedVectors.load_word2vec_format(path, binary=True)\n",
    "\n",
    "def sentence_to_vector(sentence, model):\n",
    "    words = sentence.split()\n",
    "    word_vectors = [model[word] for word in words if word in model]\n",
    "    if not word_vectors:\n",
    "        return np.zeros(model.vector_size)\n",
    "    return np.mean(word_vectors, axis=0)\n",
    "\n",
    "def sentence_similarity(sentence1, sentence2, model):\n",
    "    vec1 = sentence_to_vector(sentence1, model)\n",
    "    vec2 = sentence_to_vector(sentence2, model)\n",
    "    return cosine_similarity([vec1], [vec2])[0][0]\n",
    "\n",
    "sentence1 = \"I am a student\"\n",
    "sentence2 = \"I am a teacher\"\n",
    "\n",
    "print(sentence_similarity(sentence1, sentence2, w2vmodel))"
   ]
  },
  {
   "cell_type": "code",
   "execution_count": 3,
   "metadata": {},
   "outputs": [],
   "source": [
    "# Glove model for glove similarity\n",
    "glove_model = api.load(\"glove-wiki-gigaword-300\")\n",
    "\n",
    "#use same exact functiona as above for glove similarity, but change the model"
   ]
  },
  {
   "cell_type": "code",
   "execution_count": null,
   "metadata": {},
   "outputs": [],
   "source": [
    "# Fasttext model for fasttext similarity\n",
    "import fasttext\n",
    "from sklearn.metrics.pairwise import cosine_similarity\n",
    "import numpy as np\n",
    "\n",
    "import fasttext.util\n",
    "\n",
    "# Load pre-trained FastText vectors\n",
    "fasttext.util.download_model('en', if_exists='ignore')  # English\n",
    "ft = fasttext.load_model('cc.en.300.bin')\n",
    "\n",
    "def sentence_embedding(sentence, model):\n",
    "    words = sentence.split()\n",
    "    word_embeddings = [model.get_word_vector(word) for word in words]\n",
    "    return np.mean(word_embeddings, axis=0)\n",
    "\n",
    "# Calculate the embedding for each sentence\n",
    "embedding_T1 = sentence_embedding(\"frase 1\", ft)\n",
    "embedding_T2 = sentence_embedding(\"frase 2\", ft)\n",
    "\n",
    "# Compute the cosine similarity between the two sentence embeddings\n",
    "similarity = cosine_similarity([embedding_T1], [embedding_T2])\n",
    "print(\"Fasttext similarity score:\", similarity[0][0])"
   ]
  },
  {
   "cell_type": "markdown",
   "metadata": {},
   "source": [
    "# 6)"
   ]
  },
  {
   "cell_type": "code",
   "execution_count": null,
   "metadata": {},
   "outputs": [],
   "source": [
    "from fuzzywuzzy import fuzz\n",
    "from nltk.stem import WordNetLemmatizer\n",
    "\n",
    "def sentence_similarity(sentence1, sentence2):\n",
    "    return fuzz.ratio(sentence1, sentence2)\n",
    "\n",
    "sentence1 = \"I am a student\"\n",
    "sentence2 = \"I am a teacher\"\n",
    "\n",
    "print(sentence_similarity(sentence1, sentence2))"
   ]
  }
 ],
 "metadata": {
  "kernelspec": {
   "display_name": "Python 3",
   "language": "python",
   "name": "python3"
  },
  "language_info": {
   "codemirror_mode": {
    "name": "ipython",
    "version": 3
   },
   "file_extension": ".py",
   "mimetype": "text/x-python",
   "name": "python",
   "nbconvert_exporter": "python",
   "pygments_lexer": "ipython3",
   "version": "3.12.0"
  }
 },
 "nbformat": 4,
 "nbformat_minor": 2
}
