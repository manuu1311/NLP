{
 "cells": [
  {
   "cell_type": "markdown",
   "metadata": {},
   "source": [
    "# 4)"
   ]
  },
  {
   "cell_type": "code",
   "execution_count": 9,
   "metadata": {},
   "outputs": [
    {
     "data": {
      "text/html": [
       "<div>\n",
       "<style scoped>\n",
       "    .dataframe tbody tr th:only-of-type {\n",
       "        vertical-align: middle;\n",
       "    }\n",
       "\n",
       "    .dataframe tbody tr th {\n",
       "        vertical-align: top;\n",
       "    }\n",
       "\n",
       "    .dataframe thead th {\n",
       "        text-align: right;\n",
       "    }\n",
       "</style>\n",
       "<table border=\"1\" class=\"dataframe\">\n",
       "  <thead>\n",
       "    <tr style=\"text-align: right;\">\n",
       "      <th></th>\n",
       "      <th>Quality</th>\n",
       "      <th>ID1</th>\n",
       "      <th>ID2</th>\n",
       "      <th>String1</th>\n",
       "      <th>String2</th>\n",
       "    </tr>\n",
       "  </thead>\n",
       "  <tbody>\n",
       "    <tr>\n",
       "      <th>0</th>\n",
       "      <td>1</td>\n",
       "      <td>702876</td>\n",
       "      <td>702977</td>\n",
       "      <td>Amrozi accused his brother, whom he called \"th...</td>\n",
       "      <td>Referring to him as only \"the witness\", Amrozi...</td>\n",
       "    </tr>\n",
       "    <tr>\n",
       "      <th>1</th>\n",
       "      <td>0</td>\n",
       "      <td>2108705</td>\n",
       "      <td>2108831</td>\n",
       "      <td>Yucaipa owned Dominick's before selling the ch...</td>\n",
       "      <td>Yucaipa bought Dominick's in 1995 for $693 mil...</td>\n",
       "    </tr>\n",
       "    <tr>\n",
       "      <th>2</th>\n",
       "      <td>1</td>\n",
       "      <td>1330381</td>\n",
       "      <td>1330521</td>\n",
       "      <td>They had published an advertisement on the Int...</td>\n",
       "      <td>On June 10, the ship's owners had published an...</td>\n",
       "    </tr>\n",
       "    <tr>\n",
       "      <th>3</th>\n",
       "      <td>0</td>\n",
       "      <td>3344667</td>\n",
       "      <td>3344648</td>\n",
       "      <td>Around 0335 GMT, Tab shares were up 19 cents, ...</td>\n",
       "      <td>Tab shares jumped 20 cents, or 4.6%, to set a ...</td>\n",
       "    </tr>\n",
       "    <tr>\n",
       "      <th>4</th>\n",
       "      <td>1</td>\n",
       "      <td>1236820</td>\n",
       "      <td>1236712</td>\n",
       "      <td>The stock rose $2.11, or about 11 percent, to ...</td>\n",
       "      <td>PG&amp;E Corp. shares jumped $1.63 or 8 percent to...</td>\n",
       "    </tr>\n",
       "  </tbody>\n",
       "</table>\n",
       "</div>"
      ],
      "text/plain": [
       "   Quality      ID1      ID2  \\\n",
       "0        1   702876   702977   \n",
       "1        0  2108705  2108831   \n",
       "2        1  1330381  1330521   \n",
       "3        0  3344667  3344648   \n",
       "4        1  1236820  1236712   \n",
       "\n",
       "                                             String1  \\\n",
       "0  Amrozi accused his brother, whom he called \"th...   \n",
       "1  Yucaipa owned Dominick's before selling the ch...   \n",
       "2  They had published an advertisement on the Int...   \n",
       "3  Around 0335 GMT, Tab shares were up 19 cents, ...   \n",
       "4  The stock rose $2.11, or about 11 percent, to ...   \n",
       "\n",
       "                                             String2  \n",
       "0  Referring to him as only \"the witness\", Amrozi...  \n",
       "1  Yucaipa bought Dominick's in 1995 for $693 mil...  \n",
       "2  On June 10, the ship's owners had published an...  \n",
       "3  Tab shares jumped 20 cents, or 4.6%, to set a ...  \n",
       "4  PG&E Corp. shares jumped $1.63 or 8 percent to...  "
      ]
     },
     "execution_count": 9,
     "metadata": {},
     "output_type": "execute_result"
    }
   ],
   "source": [
    "import pandas as pd\n",
    "\n",
    "df = pd.read_csv('msr_paraphrase_corpus.txt', delimiter='\\t', usecols=[0, 1, 2, 3, 4])\n",
    "df.head()"
   ]
  },
  {
   "cell_type": "code",
   "execution_count": 10,
   "metadata": {},
   "outputs": [
    {
     "data": {
      "text/html": [
       "<div>\n",
       "<style scoped>\n",
       "    .dataframe tbody tr th:only-of-type {\n",
       "        vertical-align: middle;\n",
       "    }\n",
       "\n",
       "    .dataframe tbody tr th {\n",
       "        vertical-align: top;\n",
       "    }\n",
       "\n",
       "    .dataframe thead th {\n",
       "        text-align: right;\n",
       "    }\n",
       "</style>\n",
       "<table border=\"1\" class=\"dataframe\">\n",
       "  <thead>\n",
       "    <tr style=\"text-align: right;\">\n",
       "      <th></th>\n",
       "      <th>Quality</th>\n",
       "      <th>ID1</th>\n",
       "      <th>ID2</th>\n",
       "      <th>String1</th>\n",
       "      <th>String2</th>\n",
       "    </tr>\n",
       "  </thead>\n",
       "  <tbody>\n",
       "    <tr>\n",
       "      <th>1</th>\n",
       "      <td>0</td>\n",
       "      <td>2108705</td>\n",
       "      <td>2108831</td>\n",
       "      <td>Yucaipa owned Dominick's before selling the ch...</td>\n",
       "      <td>Yucaipa bought Dominick's in 1995 for $693 mil...</td>\n",
       "    </tr>\n",
       "    <tr>\n",
       "      <th>3</th>\n",
       "      <td>0</td>\n",
       "      <td>3344667</td>\n",
       "      <td>3344648</td>\n",
       "      <td>Around 0335 GMT, Tab shares were up 19 cents, ...</td>\n",
       "      <td>Tab shares jumped 20 cents, or 4.6%, to set a ...</td>\n",
       "    </tr>\n",
       "    <tr>\n",
       "      <th>6</th>\n",
       "      <td>0</td>\n",
       "      <td>264589</td>\n",
       "      <td>264502</td>\n",
       "      <td>The Nasdaq had a weekly gain of 17.27, or 1.2 ...</td>\n",
       "      <td>The tech-laced Nasdaq Composite .IXIC rallied ...</td>\n",
       "    </tr>\n",
       "    <tr>\n",
       "      <th>8</th>\n",
       "      <td>0</td>\n",
       "      <td>3114205</td>\n",
       "      <td>3114194</td>\n",
       "      <td>That compared with $35.18 million, or 24 cents...</td>\n",
       "      <td>Earnings were affected by a non-recurring $8 m...</td>\n",
       "    </tr>\n",
       "    <tr>\n",
       "      <th>10</th>\n",
       "      <td>0</td>\n",
       "      <td>142746</td>\n",
       "      <td>142671</td>\n",
       "      <td>Gyorgy Heizler, head of the local disaster uni...</td>\n",
       "      <td>The head of the local disaster unit, Gyorgy He...</td>\n",
       "    </tr>\n",
       "  </tbody>\n",
       "</table>\n",
       "</div>"
      ],
      "text/plain": [
       "    Quality      ID1      ID2  \\\n",
       "1         0  2108705  2108831   \n",
       "3         0  3344667  3344648   \n",
       "6         0   264589   264502   \n",
       "8         0  3114205  3114194   \n",
       "10        0   142746   142671   \n",
       "\n",
       "                                              String1  \\\n",
       "1   Yucaipa owned Dominick's before selling the ch...   \n",
       "3   Around 0335 GMT, Tab shares were up 19 cents, ...   \n",
       "6   The Nasdaq had a weekly gain of 17.27, or 1.2 ...   \n",
       "8   That compared with $35.18 million, or 24 cents...   \n",
       "10  Gyorgy Heizler, head of the local disaster uni...   \n",
       "\n",
       "                                              String2  \n",
       "1   Yucaipa bought Dominick's in 1995 for $693 mil...  \n",
       "3   Tab shares jumped 20 cents, or 4.6%, to set a ...  \n",
       "6   The tech-laced Nasdaq Composite .IXIC rallied ...  \n",
       "8   Earnings were affected by a non-recurring $8 m...  \n",
       "10  The head of the local disaster unit, Gyorgy He...  "
      ]
     },
     "execution_count": 10,
     "metadata": {},
     "output_type": "execute_result"
    }
   ],
   "source": [
    "incorrect_matches = df[df['Quality'] == 0]\n",
    "incorrect_matches.head()"
   ]
  },
  {
   "cell_type": "code",
   "execution_count": 13,
   "metadata": {},
   "outputs": [
    {
     "name": "stdout",
     "output_type": "stream",
     "text": [
      "Length of incorrect matches:  1285\n"
     ]
    }
   ],
   "source": [
    "print(\"Length of incorrect matches: \", len(incorrect_matches))"
   ]
  },
  {
   "cell_type": "code",
   "execution_count": 12,
   "metadata": {},
   "outputs": [
    {
     "data": {
      "text/html": [
       "<div>\n",
       "<style scoped>\n",
       "    .dataframe tbody tr th:only-of-type {\n",
       "        vertical-align: middle;\n",
       "    }\n",
       "\n",
       "    .dataframe tbody tr th {\n",
       "        vertical-align: top;\n",
       "    }\n",
       "\n",
       "    .dataframe thead th {\n",
       "        text-align: right;\n",
       "    }\n",
       "</style>\n",
       "<table border=\"1\" class=\"dataframe\">\n",
       "  <thead>\n",
       "    <tr style=\"text-align: right;\">\n",
       "      <th></th>\n",
       "      <th>Quality</th>\n",
       "      <th>ID1</th>\n",
       "      <th>ID2</th>\n",
       "      <th>String1</th>\n",
       "      <th>String2</th>\n",
       "    </tr>\n",
       "  </thead>\n",
       "  <tbody>\n",
       "    <tr>\n",
       "      <th>8</th>\n",
       "      <td>0</td>\n",
       "      <td>3114205</td>\n",
       "      <td>3114194</td>\n",
       "      <td>That compared with $35.18 million, or 24 cents...</td>\n",
       "      <td>Earnings were affected by a non-recurring $8 m...</td>\n",
       "    </tr>\n",
       "    <tr>\n",
       "      <th>19</th>\n",
       "      <td>0</td>\n",
       "      <td>1713015</td>\n",
       "      <td>1712982</td>\n",
       "      <td>A BMI of 25 or above is considered overweight;...</td>\n",
       "      <td>A BMI between 18.5 and 24.9 is considered norm...</td>\n",
       "    </tr>\n",
       "    <tr>\n",
       "      <th>28</th>\n",
       "      <td>0</td>\n",
       "      <td>1783137</td>\n",
       "      <td>1782659</td>\n",
       "      <td>No dates have been set for the civil or the cr...</td>\n",
       "      <td>No dates have been set for the criminal or civ...</td>\n",
       "    </tr>\n",
       "    <tr>\n",
       "      <th>56</th>\n",
       "      <td>0</td>\n",
       "      <td>2506257</td>\n",
       "      <td>2506206</td>\n",
       "      <td>The women then had follow-up examinations afte...</td>\n",
       "      <td>The women had follow-up examinations in 1974-7...</td>\n",
       "    </tr>\n",
       "    <tr>\n",
       "      <th>60</th>\n",
       "      <td>0</td>\n",
       "      <td>2277501</td>\n",
       "      <td>2277502</td>\n",
       "      <td>American Masters: Arthur Miller, Elia Kazan an...</td>\n",
       "      <td>Note the subheading of this terrible parable i...</td>\n",
       "    </tr>\n",
       "  </tbody>\n",
       "</table>\n",
       "</div>"
      ],
      "text/plain": [
       "    Quality      ID1      ID2  \\\n",
       "8         0  3114205  3114194   \n",
       "19        0  1713015  1712982   \n",
       "28        0  1783137  1782659   \n",
       "56        0  2506257  2506206   \n",
       "60        0  2277501  2277502   \n",
       "\n",
       "                                              String1  \\\n",
       "8   That compared with $35.18 million, or 24 cents...   \n",
       "19  A BMI of 25 or above is considered overweight;...   \n",
       "28  No dates have been set for the civil or the cr...   \n",
       "56  The women then had follow-up examinations afte...   \n",
       "60  American Masters: Arthur Miller, Elia Kazan an...   \n",
       "\n",
       "                                              String2  \n",
       "8   Earnings were affected by a non-recurring $8 m...  \n",
       "19  A BMI between 18.5 and 24.9 is considered norm...  \n",
       "28  No dates have been set for the criminal or civ...  \n",
       "56  The women had follow-up examinations in 1974-7...  \n",
       "60  Note the subheading of this terrible parable i...  "
      ]
     },
     "execution_count": 12,
     "metadata": {},
     "output_type": "execute_result"
    }
   ],
   "source": [
    "# Define a list of words quantifiers such as negation\n",
    "quantifiers = ['not', 'no', 'never', 'none', 'nobody', 'nothing', 'neither', 'nowhere', 'hardly', 'scarcely', 'barely']\n",
    "\n",
    "# Join the list into a single string pattern\n",
    "pattern = '|'.join(quantifiers)\n",
    "\n",
    "mask = incorrect_matches['String1'].str.contains(pattern, case=False, na=False) | incorrect_matches['String2'].str.contains(pattern, case=False, na=False)\n",
    "\n",
    "# Filter the DataFrame\n",
    "result_df = incorrect_matches[mask]\n",
    "result_df.head()"
   ]
  },
  {
   "cell_type": "code",
   "execution_count": 14,
   "metadata": {},
   "outputs": [
    {
     "name": "stdout",
     "output_type": "stream",
     "text": [
      "Length of incorrect matches with quantifiers:  408\n"
     ]
    }
   ],
   "source": [
    "print(\"Length of incorrect matches with quantifiers: \", len(result_df))"
   ]
  },
  {
   "cell_type": "code",
   "execution_count": 18,
   "metadata": {},
   "outputs": [
    {
     "name": "stdout",
     "output_type": "stream",
     "text": [
      "Percentage of incorrect matches with quantifiers: 31.75%\n"
     ]
    }
   ],
   "source": [
    "percentage = round(len(result_df) / len(incorrect_matches) * 100, 2)\n",
    "print(f\"Percentage of incorrect matches with quantifiers: {percentage}%\")"
   ]
  },
  {
   "cell_type": "code",
   "execution_count": 3,
   "metadata": {},
   "outputs": [
    {
     "name": "stderr",
     "output_type": "stream",
     "text": [
      "[nltk_data] Downloading package wordnet to\n",
      "[nltk_data]     C:\\Users\\luigi\\AppData\\Roaming\\nltk_data...\n"
     ]
    },
    {
     "name": "stdout",
     "output_type": "stream",
     "text": [
      "Similarity score between 'dog' and 'cat': 0.9808292530117262\n"
     ]
    }
   ],
   "source": [
    "import nltk\n",
    "from nltk.corpus import wordnet as wn\n",
    "nltk.download('wordnet')\n",
    "from nltk.metrics import edit_distance\n",
    "import numpy as np\n",
    "\n",
    "def leacock_chodorow_similarity(word1, word2):\n",
    "    # Get the synsets for each word\n",
    "    synsets1 = wn.synsets(word1)\n",
    "    synsets2 = wn.synsets(word2)\n",
    "\n",
    "    # Initialize an empty list to store the path lengths\n",
    "    path_lengths = []\n",
    "\n",
    "    # Calculate the path length for each pair of synsets\n",
    "    for synset1 in synsets1:\n",
    "        for synset2 in synsets2:\n",
    "            path_length = synset1.shortest_path_distance(synset2)\n",
    "            if path_length is not None:\n",
    "                path_lengths.append(path_length)\n",
    "\n",
    "    # Calculate the shortest path length\n",
    "    if len(path_lengths) > 0:\n",
    "        shortest_path_length = min(path_lengths)\n",
    "    else:\n",
    "        shortest_path_length = np.inf\n",
    "\n",
    "    # Calculate the length of the longest common subsequence\n",
    "    lcs_length = edit_distance(word1, word2)\n",
    "\n",
    "    # Calculate the similarity score\n",
    "    similarity_score = -np.log(lcs_length / (2 * shortest_path_length))\n",
    "\n",
    "    return similarity_score\n"
   ]
  }
 ],
 "metadata": {
  "kernelspec": {
   "display_name": "Python 3",
   "language": "python",
   "name": "python3"
  },
  "language_info": {
   "codemirror_mode": {
    "name": "ipython",
    "version": 3
   },
   "file_extension": ".py",
   "mimetype": "text/x-python",
   "name": "python",
   "nbconvert_exporter": "python",
   "pygments_lexer": "ipython3",
   "version": "3.12.0"
  }
 },
 "nbformat": 4,
 "nbformat_minor": 2
}
