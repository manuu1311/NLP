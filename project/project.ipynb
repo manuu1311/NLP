{
 "cells": [
  {
   "cell_type": "code",
   "execution_count": 73,
   "metadata": {},
   "outputs": [],
   "source": [
    "from pandas import read_csv\n",
    "import numpy as np\n",
    "import matplotlib.pyplot as plt\n",
    "from scipy.stats import pearsonr\n",
    "import nltk"
   ]
  },
  {
   "cell_type": "code",
   "execution_count": 74,
   "metadata": {},
   "outputs": [],
   "source": [
    "#download tokenizer\n",
    "path=path='D:/misc/Projects/Python/NLP/misc'\n",
    "nltk.data.path.append(path)"
   ]
  },
  {
   "cell_type": "code",
   "execution_count": 11,
   "metadata": {},
   "outputs": [
    {
     "data": {
      "text/html": [
       "<div>\n",
       "<style scoped>\n",
       "    .dataframe tbody tr th:only-of-type {\n",
       "        vertical-align: middle;\n",
       "    }\n",
       "\n",
       "    .dataframe tbody tr th {\n",
       "        vertical-align: top;\n",
       "    }\n",
       "\n",
       "    .dataframe thead th {\n",
       "        text-align: right;\n",
       "    }\n",
       "</style>\n",
       "<table border=\"1\" class=\"dataframe\">\n",
       "  <thead>\n",
       "    <tr style=\"text-align: right;\">\n",
       "      <th></th>\n",
       "      <th>unicode</th>\n",
       "      <th>emoji</th>\n",
       "      <th>name</th>\n",
       "      <th>anger</th>\n",
       "      <th>anticipation</th>\n",
       "      <th>disgust</th>\n",
       "      <th>fear</th>\n",
       "      <th>joy</th>\n",
       "      <th>sadness</th>\n",
       "      <th>surprise</th>\n",
       "      <th>trust</th>\n",
       "    </tr>\n",
       "  </thead>\n",
       "  <tbody>\n",
       "    <tr>\n",
       "      <th>0</th>\n",
       "      <td>1F308</td>\n",
       "      <td>🌈</td>\n",
       "      <td>rainbow</td>\n",
       "      <td>0.00</td>\n",
       "      <td>0.28</td>\n",
       "      <td>0.00</td>\n",
       "      <td>0.00</td>\n",
       "      <td>0.69</td>\n",
       "      <td>0.06</td>\n",
       "      <td>0.22</td>\n",
       "      <td>0.33</td>\n",
       "    </tr>\n",
       "    <tr>\n",
       "      <th>1</th>\n",
       "      <td>1F319</td>\n",
       "      <td>🌙</td>\n",
       "      <td>crescent moon</td>\n",
       "      <td>0.00</td>\n",
       "      <td>0.31</td>\n",
       "      <td>0.00</td>\n",
       "      <td>0.00</td>\n",
       "      <td>0.25</td>\n",
       "      <td>0.00</td>\n",
       "      <td>0.06</td>\n",
       "      <td>0.25</td>\n",
       "    </tr>\n",
       "    <tr>\n",
       "      <th>2</th>\n",
       "      <td>1F31A</td>\n",
       "      <td>🌚</td>\n",
       "      <td>new moon face</td>\n",
       "      <td>0.06</td>\n",
       "      <td>0.08</td>\n",
       "      <td>0.17</td>\n",
       "      <td>0.06</td>\n",
       "      <td>0.42</td>\n",
       "      <td>0.19</td>\n",
       "      <td>0.06</td>\n",
       "      <td>0.11</td>\n",
       "    </tr>\n",
       "    <tr>\n",
       "      <th>3</th>\n",
       "      <td>1F31E</td>\n",
       "      <td>🌞</td>\n",
       "      <td>sun with face</td>\n",
       "      <td>0.00</td>\n",
       "      <td>0.22</td>\n",
       "      <td>0.00</td>\n",
       "      <td>0.00</td>\n",
       "      <td>0.78</td>\n",
       "      <td>0.00</td>\n",
       "      <td>0.11</td>\n",
       "      <td>0.22</td>\n",
       "    </tr>\n",
       "    <tr>\n",
       "      <th>4</th>\n",
       "      <td>1F31F</td>\n",
       "      <td>🌟</td>\n",
       "      <td>glowing star</td>\n",
       "      <td>0.00</td>\n",
       "      <td>0.28</td>\n",
       "      <td>0.00</td>\n",
       "      <td>0.00</td>\n",
       "      <td>0.53</td>\n",
       "      <td>0.00</td>\n",
       "      <td>0.25</td>\n",
       "      <td>0.31</td>\n",
       "    </tr>\n",
       "  </tbody>\n",
       "</table>\n",
       "</div>"
      ],
      "text/plain": [
       "  unicode emoji           name  anger  ...   joy  sadness  surprise  trust\n",
       "0   1F308     🌈        rainbow   0.00  ...  0.69     0.06      0.22   0.33\n",
       "1   1F319     🌙  crescent moon   0.00  ...  0.25     0.00      0.06   0.25\n",
       "2   1F31A     🌚  new moon face   0.06  ...  0.42     0.19      0.06   0.11\n",
       "3   1F31E     🌞  sun with face   0.00  ...  0.78     0.00      0.11   0.22\n",
       "4   1F31F     🌟   glowing star   0.00  ...  0.53     0.00      0.25   0.31\n",
       "\n",
       "[5 rows x 11 columns]"
      ]
     },
     "execution_count": 11,
     "metadata": {},
     "output_type": "execute_result"
    }
   ],
   "source": [
    "table=read_csv('emoji_table.csv')\n",
    "table.head()"
   ]
  },
  {
   "cell_type": "markdown",
   "metadata": {},
   "source": [
    "## 1)"
   ]
  },
  {
   "cell_type": "code",
   "execution_count": 12,
   "metadata": {},
   "outputs": [
    {
     "data": {
      "text/html": [
       "<div>\n",
       "<style scoped>\n",
       "    .dataframe tbody tr th:only-of-type {\n",
       "        vertical-align: middle;\n",
       "    }\n",
       "\n",
       "    .dataframe tbody tr th {\n",
       "        vertical-align: top;\n",
       "    }\n",
       "\n",
       "    .dataframe thead th {\n",
       "        text-align: right;\n",
       "    }\n",
       "</style>\n",
       "<table border=\"1\" class=\"dataframe\">\n",
       "  <thead>\n",
       "    <tr style=\"text-align: right;\">\n",
       "      <th></th>\n",
       "      <th>unicode</th>\n",
       "      <th>emoji</th>\n",
       "      <th>name</th>\n",
       "    </tr>\n",
       "  </thead>\n",
       "  <tbody>\n",
       "    <tr>\n",
       "      <th>0</th>\n",
       "      <td>1F308</td>\n",
       "      <td>🌈</td>\n",
       "      <td>rainbow</td>\n",
       "    </tr>\n",
       "    <tr>\n",
       "      <th>1</th>\n",
       "      <td>1F319</td>\n",
       "      <td>🌙</td>\n",
       "      <td>crescent moon</td>\n",
       "    </tr>\n",
       "    <tr>\n",
       "      <th>2</th>\n",
       "      <td>1F31A</td>\n",
       "      <td>🌚</td>\n",
       "      <td>new moon face</td>\n",
       "    </tr>\n",
       "    <tr>\n",
       "      <th>3</th>\n",
       "      <td>1F31E</td>\n",
       "      <td>🌞</td>\n",
       "      <td>sun with face</td>\n",
       "    </tr>\n",
       "    <tr>\n",
       "      <th>4</th>\n",
       "      <td>1F31F</td>\n",
       "      <td>🌟</td>\n",
       "      <td>glowing star</td>\n",
       "    </tr>\n",
       "    <tr>\n",
       "      <th>...</th>\n",
       "      <td>...</td>\n",
       "      <td>...</td>\n",
       "      <td>...</td>\n",
       "    </tr>\n",
       "    <tr>\n",
       "      <th>145</th>\n",
       "      <td>2757</td>\n",
       "      <td>❗</td>\n",
       "      <td>exclamation mark</td>\n",
       "    </tr>\n",
       "    <tr>\n",
       "      <th>146</th>\n",
       "      <td>2764</td>\n",
       "      <td>❤</td>\n",
       "      <td>red heart</td>\n",
       "    </tr>\n",
       "    <tr>\n",
       "      <th>147</th>\n",
       "      <td>27A1</td>\n",
       "      <td>➡</td>\n",
       "      <td>right arrow</td>\n",
       "    </tr>\n",
       "    <tr>\n",
       "      <th>148</th>\n",
       "      <td>2B05</td>\n",
       "      <td>⬅</td>\n",
       "      <td>left arrow</td>\n",
       "    </tr>\n",
       "    <tr>\n",
       "      <th>149</th>\n",
       "      <td>2B50</td>\n",
       "      <td>⭐</td>\n",
       "      <td>star</td>\n",
       "    </tr>\n",
       "  </tbody>\n",
       "</table>\n",
       "<p>150 rows × 3 columns</p>\n",
       "</div>"
      ],
      "text/plain": [
       "    unicode emoji              name\n",
       "0     1F308     🌈           rainbow\n",
       "1     1F319     🌙     crescent moon\n",
       "2     1F31A     🌚     new moon face\n",
       "3     1F31E     🌞     sun with face\n",
       "4     1F31F     🌟      glowing star\n",
       "..      ...   ...               ...\n",
       "145    2757     ❗  exclamation mark\n",
       "146    2764     ❤         red heart\n",
       "147    27A1     ➡       right arrow\n",
       "148    2B05     ⬅        left arrow\n",
       "149    2B50     ⭐              star\n",
       "\n",
       "[150 rows x 3 columns]"
      ]
     },
     "execution_count": 12,
     "metadata": {},
     "output_type": "execute_result"
    }
   ],
   "source": [
    "table[['unicode','emoji','name']]"
   ]
  },
  {
   "cell_type": "markdown",
   "metadata": {},
   "source": [
    "## 2)"
   ]
  },
  {
   "cell_type": "code",
   "execution_count": 47,
   "metadata": {},
   "outputs": [],
   "source": [
    "emotions=list(table.columns[-8:])\n",
    "emoticons=list(table['name'])\n",
    "off_scores=np.array(table[emotions])"
   ]
  },
  {
   "cell_type": "code",
   "execution_count": 48,
   "metadata": {},
   "outputs": [],
   "source": [
    "def cosine_similarity(a,b):\n",
    "    return np.dot(a, b)/(np.linalg.norm(a)*np.linalg.norm(b))\n",
    "\n",
    "def calculate_model_scores(emotions, emoticons, embed_fun):\n",
    "    scores=np.zeros([len(emoticons),len(emotions)])\n",
    "    emotions_vec=[embed_fun(emo) for emo in emotions]\n",
    "    for i,emoticon in enumerate(emoticons):\n",
    "        emoticon_vec=embed_fun(emoticon)\n",
    "        scores[i]=[cosine_similarity(emoticon_vec,emovec) for emovec in emotions_vec]\n",
    "    return scores"
   ]
  },
  {
   "cell_type": "code",
   "execution_count": 71,
   "metadata": {},
   "outputs": [],
   "source": [
    "w2v_embed_fun=lambda x: np.mean(np.array([np.random.random(5) for w in x.split()]),axis=0)\n",
    "word2vec_scores=calculate_model_scores(emotions,emoticons, w2v_embed_fun)"
   ]
  },
  {
   "cell_type": "code",
   "execution_count": 72,
   "metadata": {},
   "outputs": [
    {
     "data": {
      "text/plain": [
       "[PearsonRResult(statistic=0.1381102968952918, pvalue=0.09190458397100414),\n",
       " PearsonRResult(statistic=-0.08733034694870316, pvalue=0.28793697786309996),\n",
       " PearsonRResult(statistic=0.05910096655113584, pvalue=0.47250505349306904),\n",
       " PearsonRResult(statistic=-0.07051026571681135, pvalue=0.3912158400438199),\n",
       " PearsonRResult(statistic=0.13800218169957065, pvalue=0.092161705171599),\n",
       " PearsonRResult(statistic=-0.10110285095433223, pvalue=0.21830398404401943),\n",
       " PearsonRResult(statistic=-0.09236693194870493, pvalue=0.26092781318492203),\n",
       " PearsonRResult(statistic=0.15224123818775834, pvalue=0.0629102761036149)]"
      ]
     },
     "execution_count": 72,
     "metadata": {},
     "output_type": "execute_result"
    }
   ],
   "source": [
    "w2v_coeff=[pearsonr(off_scores[:,i],word2vec_scores[:,i]) for i in range(8)]\n",
    "w2v_coeff"
   ]
  },
  {
   "cell_type": "markdown",
   "metadata": {},
   "source": [
    "## 3)"
   ]
  },
  {
   "cell_type": "code",
   "execution_count": null,
   "metadata": {},
   "outputs": [],
   "source": [
    "gl_embed_fun=lambda x: np.random.random(5)\n",
    "glove_scores=calculate_model_scores(emotions,emoticons, gl_embed_fun)"
   ]
  },
  {
   "cell_type": "code",
   "execution_count": null,
   "metadata": {},
   "outputs": [],
   "source": [
    "gl_coeff=[pearsonr(off_scores[:,i],glove_scores[:,i]) for i in range(8)]"
   ]
  },
  {
   "cell_type": "code",
   "execution_count": null,
   "metadata": {},
   "outputs": [],
   "source": [
    "d2v_embed_fun=lambda x: np.random.random(5)\n",
    "doc2vec_scores=calculate_model_scores(emotions,emoticons, d2v_embed_fun)"
   ]
  },
  {
   "cell_type": "code",
   "execution_count": null,
   "metadata": {},
   "outputs": [],
   "source": [
    "d2v_coeff=[pearsonr(off_scores[:,i],doc2vec_scores[:,i]) for i in range(8)]"
   ]
  },
  {
   "cell_type": "code",
   "execution_count": null,
   "metadata": {},
   "outputs": [],
   "source": [
    "brt_embed_fun=lambda x: np.random.random(5)\n",
    "bert_scores=calculate_model_scores(emotions,emoticons, brt_embed_fun)"
   ]
  },
  {
   "cell_type": "code",
   "execution_count": null,
   "metadata": {},
   "outputs": [],
   "source": [
    "brt_coeff=[pearsonr(off_scores[:,i],bert_scores[:,i]) for i in range(8)]"
   ]
  },
  {
   "cell_type": "markdown",
   "metadata": {},
   "source": [
    "## 4)"
   ]
  },
  {
   "cell_type": "code",
   "execution_count": 81,
   "metadata": {},
   "outputs": [],
   "source": [
    "from collections import defaultdict\n",
    "#custom dictionary class to conveniently store word frequency\n",
    "class inverted_index_dict:\n",
    "    def __init__(self) -> None:\n",
    "        self.dict=defaultdict()\n",
    "        \n",
    "    def add_item(self,token):\n",
    "        if self.dict.__contains__(token):\n",
    "            self.dict[token]+=1\n",
    "        else:\n",
    "            self.dict[token]=1\n",
    "    "
   ]
  },
  {
   "cell_type": "code",
   "execution_count": 170,
   "metadata": {},
   "outputs": [],
   "source": [
    "stop_words = set(nltk.corpus.stopwords.words('english'))\n",
    "stop_words.update([\"'s\",\"n't\",'✅',\"\\U0001F621\",\"\\U0001F624\",\"\\U0001F602\",\n",
    "             \"\\U0001F62D\",\"\\U0001F973\",\"\\u263A\", '🎉','🏆','im','dont','youre'])\n",
    "punctuation=['\"','!','.',',',\"'\",'(',')',';','``',\"''\",'?','_',':','-','@','’',\n",
    "             '#','&','£','$','%','”','*','“','☺️','😭','😂']\n",
    "\n",
    "def get_mfrequent_terms(path):\n",
    "    word_freq=inverted_index_dict()\n",
    "    text=read_csv(path)\n",
    "    text=list(text['Text'])\n",
    "    text=''.join(txt for txt in text).lower()\n",
    "    for punct in punctuation:\n",
    "        text=text.replace(punct,'')\n",
    "    for word in nltk.tokenize.word_tokenize(text):\n",
    "        if word not in stop_words:\n",
    "            word_freq.add_item(word)\n",
    "    word_freq_list=list(word_freq.dict.items())\n",
    "    word_freq_list=sorted(word_freq_list,key=lambda x: x[1], reverse=True)\n",
    "    return word_freq_list[:30]"
   ]
  },
  {
   "cell_type": "code",
   "execution_count": 171,
   "metadata": {},
   "outputs": [],
   "source": [
    "paths=['tweets/enraged_face.csv','tweets/face_with_steam_from_nose.csv','tweets/face_with_tears_of_joy.csv',\n",
    "       'tweets/loudly_crying_face.csv','tweets/partying_face.csv','tweets/smiling_face.csv']\n",
    "tweet_emoticons=['enragedface', 'facewithsteam','tearsfromjoy','loudcrying','partyingface','smiley']\n",
    "mfreq=[get_mfrequent_terms(path) for path in paths]\n",
    "mfreq_w=[[x[0] for x in p] for p in mfreq]"
   ]
  },
  {
   "cell_type": "code",
   "execution_count": 172,
   "metadata": {},
   "outputs": [
    {
     "name": "stdout",
     "output_type": "stream",
     "text": [
      "enragedface:\n",
      "[('like', 1488), ('people', 1215), ('get', 1124), ('amp', 1100), ('one', 920), ('cant', 758), ('know', 688), ('even', 677), ('go', 665), ('us', 660), ('time', 647), ('would', 646), ('want', 609), ('see', 583), ('never', 579), ('need', 564), ('got', 524), ('still', 519), ('thats', 517), ('u', 514), ('stop', 489), ('right', 487), ('back', 476), ('make', 474), ('going', 465), ('really', 447), ('think', 440), ('say', 423), ('way', 392), ('take', 389)]\n",
      "facewithsteam:\n",
      "[('like', 1346), ('get', 1220), ('one', 988), ('got', 763), ('time', 752), ('know', 701), ('go', 696), ('na', 686), ('back', 668), ('see', 632), ('cant', 607), ('need', 578), ('people', 574), ('amp', 572), ('even', 554), ('love', 550), ('want', 508), ('day', 507), ('good', 501), ('better', 490), ('make', 481), ('thats', 476), ('still', 469), ('right', 438), ('never', 437), ('gon', 435), ('going', 430), ('really', 416), ('shit', 414), ('man', 412)]\n",
      "tearsfromjoy:\n",
      "[('like', 1583), ('one', 928), ('get', 907), ('know', 802), ('liverpool', 695), ('got', 692), ('even', 686), ('see', 622), ('time', 616), ('go', 604), ('easter', 597), ('thats', 574), ('cant', 571), ('people', 565), ('think', 525), ('lol', 504), ('say', 499), ('na', 494), ('good', 480), ('arsenal', 469), ('man', 468), ('love', 468), ('still', 467), ('back', 465), ('shit', 465), ('would', 452), ('never', 437), ('said', 433), ('going', 419), ('really', 417)]\n",
      "loudcrying:\n",
      "[('like', 2307), ('one', 891), ('get', 890), ('cant', 828), ('got', 808), ('even', 801), ('love', 788), ('know', 769), ('na', 730), ('really', 658), ('time', 593), ('much', 571), ('see', 530), ('want', 503), ('think', 496), ('u', 493), ('good', 490), ('thats', 488), ('go', 485), ('need', 483), ('literally', 481), ('never', 469), ('still', 468), ('shit', 461), ('back', 458), ('people', 453), ('would', 453), ('gon', 442), ('way', 434), ('yall', 434)]\n",
      "partyingface:\n",
      "[('birthday', 4092), ('happy', 3547), ('day', 1944), ('amp', 1491), ('easter', 1202), ('like', 1169), ('giveaway', 1144), ('hope', 1139), ('love', 1019), ('one', 946), ('get', 929), ('thank', 924), ('good', 886), ('today', 840), ('usdt', 803), ('time', 790), ('great', 767), ('best', 718), ('follow', 691), ('denet', 673), ('congratulations', 624), ('see', 602), ('us', 601), ('prize', 594), ('new', 582), ('year', 575), ('much', 572), ('airdrop', 567), ('may', 566), ('rt', 553)]\n",
      "smiley:\n",
      "[('thank', 2011), ('good', 1406), ('like', 1270), ('love', 1093), ('day', 1061), ('happy', 871), ('one', 840), ('much', 811), ('see', 772), ('time', 750), ('hope', 742), ('get', 721), ('thanks', 690), ('great', 670), ('know', 667), ('amp', 667), ('really', 587), ('today', 566), ('well', 555), ('morning', 544), ('always', 501), ('thats', 476), ('want', 468), ('would', 448), ('u', 447), ('ill', 443), ('back', 437), ('go', 433), ('also', 423), ('got', 419)]\n"
     ]
    }
   ],
   "source": [
    "for i in range(6): \n",
    "    print(f'{tweet_emoticons[i]}:\\n{mfreq[i]}')"
   ]
  },
  {
   "cell_type": "markdown",
   "metadata": {},
   "source": [
    "the stop word removal was not effective for expressions like \"youre\" instead of \"you're\", \"im\" instead of \"i'm\" and so on, we had to resort to manual intervention"
   ]
  },
  {
   "cell_type": "code",
   "execution_count": 197,
   "metadata": {},
   "outputs": [
    {
     "data": {
      "text/plain": [
       "[['name',\n",
       "  'enragedface',\n",
       "  'facewithsteam',\n",
       "  'tearsfromjoy',\n",
       "  'loudcrying',\n",
       "  'partyingface',\n",
       "  'smiley'],\n",
       " ['people', True, True, True, True, False, False],\n",
       " ['denet', False, False, False, False, True, False],\n",
       " ['way', True, False, False, True, False, False],\n",
       " ['year', False, False, False, False, True, False],\n",
       " ['may', False, False, False, False, True, False],\n",
       " ['birthday', False, False, False, False, True, False],\n",
       " ['stop', True, False, False, False, False, False],\n",
       " ['great', False, False, False, False, True, True],\n",
       " ['love', False, True, True, True, True, True],\n",
       " ['lol', False, False, True, False, False, False],\n",
       " ['na', False, True, True, True, False, False],\n",
       " ['much', False, False, False, True, True, True],\n",
       " ['know', True, True, True, True, False, True],\n",
       " ['today', False, False, False, False, True, True],\n",
       " ['good', False, True, True, True, True, True],\n",
       " ['also', False, False, False, False, False, True],\n",
       " ['arsenal', False, False, True, False, False, False],\n",
       " ['us', True, False, False, False, True, False],\n",
       " ['would', True, False, True, True, False, True],\n",
       " ['thats', True, True, True, True, False, True],\n",
       " ['u', True, False, False, True, False, True],\n",
       " ['liverpool', False, False, True, False, False, False],\n",
       " ['like', True, True, True, True, True, True],\n",
       " ['going', True, True, True, False, False, False],\n",
       " ['still', True, True, True, True, False, False],\n",
       " ['day', False, True, False, False, True, True],\n",
       " ['take', True, False, False, False, False, False],\n",
       " ['want', True, True, False, True, False, True],\n",
       " ['better', False, True, False, False, False, False],\n",
       " ['thanks', False, False, False, False, False, True],\n",
       " ['need', True, True, False, True, False, False],\n",
       " ['back', True, True, True, True, False, True],\n",
       " ['literally', False, False, False, True, False, False],\n",
       " ['go', True, True, True, True, False, True],\n",
       " ['think', True, False, True, True, False, False],\n",
       " ['make', True, True, False, False, False, False],\n",
       " ['best', False, False, False, False, True, False],\n",
       " ['time', True, True, True, True, True, True],\n",
       " ['never', True, True, True, True, False, False],\n",
       " ['usdt', False, False, False, False, True, False],\n",
       " ['even', True, True, True, True, False, False],\n",
       " ['easter', False, False, True, False, True, False],\n",
       " ['airdrop', False, False, False, False, True, False],\n",
       " ['thank', False, False, False, False, True, True],\n",
       " ['follow', False, False, False, False, True, False],\n",
       " ['ill', False, False, False, False, False, True],\n",
       " ['really', True, True, True, True, False, True],\n",
       " ['morning', False, False, False, False, False, True],\n",
       " ['well', False, False, False, False, False, True],\n",
       " ['shit', False, True, True, True, False, False],\n",
       " ['see', True, True, True, True, True, True],\n",
       " ['man', False, True, True, False, False, False],\n",
       " ['congratulations', False, False, False, False, True, False],\n",
       " ['happy', False, False, False, False, True, True],\n",
       " ['new', False, False, False, False, True, False],\n",
       " ['hope', False, False, False, False, True, True],\n",
       " ['giveaway', False, False, False, False, True, False],\n",
       " ['one', True, True, True, True, True, True],\n",
       " ['cant', True, True, True, True, False, False],\n",
       " ['get', True, True, True, True, True, True],\n",
       " ['right', True, True, False, False, False, False],\n",
       " ['always', False, False, False, False, False, True],\n",
       " ['yall', False, False, False, True, False, False],\n",
       " ['rt', False, False, False, False, True, False],\n",
       " ['prize', False, False, False, False, True, False],\n",
       " ['amp', True, True, False, False, True, True],\n",
       " ['said', False, False, True, False, False, False],\n",
       " ['say', True, False, True, False, False, False],\n",
       " ['gon', False, True, False, True, False, False],\n",
       " ['got', True, True, True, True, False, True]]"
      ]
     },
     "execution_count": 197,
     "metadata": {},
     "output_type": "execute_result"
    }
   ],
   "source": [
    "words=set([pr[0] for i in range(6) for pr in mfreq[i]])\n",
    "inc_mat=matrix = [[0 for _ in range(7)] for _ in range(len(words)+1)]\n",
    "inc_mat[0][0]='name'\n",
    "inc_mat[0][1:]=tweet_emoticons\n",
    "for i,word in enumerate(words):\n",
    "    inc_mat[i+1][0]=word\n",
    "    for j in range(6):\n",
    "        inc_mat[i+1][j+1]=word in mfreq_w[j]\n",
    "inc_mat"
   ]
  },
  {
   "cell_type": "markdown",
   "metadata": {},
   "source": [
    "## 5)"
   ]
  },
  {
   "cell_type": "code",
   "execution_count": null,
   "metadata": {},
   "outputs": [],
   "source": [
    "'fock'"
   ]
  },
  {
   "cell_type": "markdown",
   "metadata": {},
   "source": [
    "## 6)"
   ]
  },
  {
   "cell_type": "code",
   "execution_count": null,
   "metadata": {},
   "outputs": [],
   "source": [
    "'fock'"
   ]
  },
  {
   "cell_type": "markdown",
   "metadata": {},
   "source": [
    "## 7)"
   ]
  }
 ],
 "metadata": {
  "kernelspec": {
   "display_name": "Python 3",
   "language": "python",
   "name": "python3"
  },
  "language_info": {
   "codemirror_mode": {
    "name": "ipython",
    "version": 3
   },
   "file_extension": ".py",
   "mimetype": "text/x-python",
   "name": "python",
   "nbconvert_exporter": "python",
   "pygments_lexer": "ipython3",
   "version": "3.11.9"
  },
  "orig_nbformat": 4
 },
 "nbformat": 4,
 "nbformat_minor": 2
}
