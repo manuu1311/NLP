{
 "cells": [
  {
   "cell_type": "code",
   "execution_count": 51,
   "metadata": {},
   "outputs": [],
   "source": [
    "from pandas import read_csv\n",
    "import numpy as np\n",
    "import matplotlib.pyplot as plt\n",
    "from scipy.stats import pearsonr\n"
   ]
  },
  {
   "cell_type": "code",
   "execution_count": 11,
   "metadata": {},
   "outputs": [
    {
     "data": {
      "text/html": [
       "<div>\n",
       "<style scoped>\n",
       "    .dataframe tbody tr th:only-of-type {\n",
       "        vertical-align: middle;\n",
       "    }\n",
       "\n",
       "    .dataframe tbody tr th {\n",
       "        vertical-align: top;\n",
       "    }\n",
       "\n",
       "    .dataframe thead th {\n",
       "        text-align: right;\n",
       "    }\n",
       "</style>\n",
       "<table border=\"1\" class=\"dataframe\">\n",
       "  <thead>\n",
       "    <tr style=\"text-align: right;\">\n",
       "      <th></th>\n",
       "      <th>unicode</th>\n",
       "      <th>emoji</th>\n",
       "      <th>name</th>\n",
       "      <th>anger</th>\n",
       "      <th>anticipation</th>\n",
       "      <th>disgust</th>\n",
       "      <th>fear</th>\n",
       "      <th>joy</th>\n",
       "      <th>sadness</th>\n",
       "      <th>surprise</th>\n",
       "      <th>trust</th>\n",
       "    </tr>\n",
       "  </thead>\n",
       "  <tbody>\n",
       "    <tr>\n",
       "      <th>0</th>\n",
       "      <td>1F308</td>\n",
       "      <td>🌈</td>\n",
       "      <td>rainbow</td>\n",
       "      <td>0.00</td>\n",
       "      <td>0.28</td>\n",
       "      <td>0.00</td>\n",
       "      <td>0.00</td>\n",
       "      <td>0.69</td>\n",
       "      <td>0.06</td>\n",
       "      <td>0.22</td>\n",
       "      <td>0.33</td>\n",
       "    </tr>\n",
       "    <tr>\n",
       "      <th>1</th>\n",
       "      <td>1F319</td>\n",
       "      <td>🌙</td>\n",
       "      <td>crescent moon</td>\n",
       "      <td>0.00</td>\n",
       "      <td>0.31</td>\n",
       "      <td>0.00</td>\n",
       "      <td>0.00</td>\n",
       "      <td>0.25</td>\n",
       "      <td>0.00</td>\n",
       "      <td>0.06</td>\n",
       "      <td>0.25</td>\n",
       "    </tr>\n",
       "    <tr>\n",
       "      <th>2</th>\n",
       "      <td>1F31A</td>\n",
       "      <td>🌚</td>\n",
       "      <td>new moon face</td>\n",
       "      <td>0.06</td>\n",
       "      <td>0.08</td>\n",
       "      <td>0.17</td>\n",
       "      <td>0.06</td>\n",
       "      <td>0.42</td>\n",
       "      <td>0.19</td>\n",
       "      <td>0.06</td>\n",
       "      <td>0.11</td>\n",
       "    </tr>\n",
       "    <tr>\n",
       "      <th>3</th>\n",
       "      <td>1F31E</td>\n",
       "      <td>🌞</td>\n",
       "      <td>sun with face</td>\n",
       "      <td>0.00</td>\n",
       "      <td>0.22</td>\n",
       "      <td>0.00</td>\n",
       "      <td>0.00</td>\n",
       "      <td>0.78</td>\n",
       "      <td>0.00</td>\n",
       "      <td>0.11</td>\n",
       "      <td>0.22</td>\n",
       "    </tr>\n",
       "    <tr>\n",
       "      <th>4</th>\n",
       "      <td>1F31F</td>\n",
       "      <td>🌟</td>\n",
       "      <td>glowing star</td>\n",
       "      <td>0.00</td>\n",
       "      <td>0.28</td>\n",
       "      <td>0.00</td>\n",
       "      <td>0.00</td>\n",
       "      <td>0.53</td>\n",
       "      <td>0.00</td>\n",
       "      <td>0.25</td>\n",
       "      <td>0.31</td>\n",
       "    </tr>\n",
       "  </tbody>\n",
       "</table>\n",
       "</div>"
      ],
      "text/plain": [
       "  unicode emoji           name  anger  ...   joy  sadness  surprise  trust\n",
       "0   1F308     🌈        rainbow   0.00  ...  0.69     0.06      0.22   0.33\n",
       "1   1F319     🌙  crescent moon   0.00  ...  0.25     0.00      0.06   0.25\n",
       "2   1F31A     🌚  new moon face   0.06  ...  0.42     0.19      0.06   0.11\n",
       "3   1F31E     🌞  sun with face   0.00  ...  0.78     0.00      0.11   0.22\n",
       "4   1F31F     🌟   glowing star   0.00  ...  0.53     0.00      0.25   0.31\n",
       "\n",
       "[5 rows x 11 columns]"
      ]
     },
     "execution_count": 11,
     "metadata": {},
     "output_type": "execute_result"
    }
   ],
   "source": [
    "table=read_csv('emoji_table.csv')\n",
    "table.head()"
   ]
  },
  {
   "cell_type": "markdown",
   "metadata": {},
   "source": [
    "## 1)"
   ]
  },
  {
   "cell_type": "code",
   "execution_count": 12,
   "metadata": {},
   "outputs": [
    {
     "data": {
      "text/html": [
       "<div>\n",
       "<style scoped>\n",
       "    .dataframe tbody tr th:only-of-type {\n",
       "        vertical-align: middle;\n",
       "    }\n",
       "\n",
       "    .dataframe tbody tr th {\n",
       "        vertical-align: top;\n",
       "    }\n",
       "\n",
       "    .dataframe thead th {\n",
       "        text-align: right;\n",
       "    }\n",
       "</style>\n",
       "<table border=\"1\" class=\"dataframe\">\n",
       "  <thead>\n",
       "    <tr style=\"text-align: right;\">\n",
       "      <th></th>\n",
       "      <th>unicode</th>\n",
       "      <th>emoji</th>\n",
       "      <th>name</th>\n",
       "    </tr>\n",
       "  </thead>\n",
       "  <tbody>\n",
       "    <tr>\n",
       "      <th>0</th>\n",
       "      <td>1F308</td>\n",
       "      <td>🌈</td>\n",
       "      <td>rainbow</td>\n",
       "    </tr>\n",
       "    <tr>\n",
       "      <th>1</th>\n",
       "      <td>1F319</td>\n",
       "      <td>🌙</td>\n",
       "      <td>crescent moon</td>\n",
       "    </tr>\n",
       "    <tr>\n",
       "      <th>2</th>\n",
       "      <td>1F31A</td>\n",
       "      <td>🌚</td>\n",
       "      <td>new moon face</td>\n",
       "    </tr>\n",
       "    <tr>\n",
       "      <th>3</th>\n",
       "      <td>1F31E</td>\n",
       "      <td>🌞</td>\n",
       "      <td>sun with face</td>\n",
       "    </tr>\n",
       "    <tr>\n",
       "      <th>4</th>\n",
       "      <td>1F31F</td>\n",
       "      <td>🌟</td>\n",
       "      <td>glowing star</td>\n",
       "    </tr>\n",
       "    <tr>\n",
       "      <th>...</th>\n",
       "      <td>...</td>\n",
       "      <td>...</td>\n",
       "      <td>...</td>\n",
       "    </tr>\n",
       "    <tr>\n",
       "      <th>145</th>\n",
       "      <td>2757</td>\n",
       "      <td>❗</td>\n",
       "      <td>exclamation mark</td>\n",
       "    </tr>\n",
       "    <tr>\n",
       "      <th>146</th>\n",
       "      <td>2764</td>\n",
       "      <td>❤</td>\n",
       "      <td>red heart</td>\n",
       "    </tr>\n",
       "    <tr>\n",
       "      <th>147</th>\n",
       "      <td>27A1</td>\n",
       "      <td>➡</td>\n",
       "      <td>right arrow</td>\n",
       "    </tr>\n",
       "    <tr>\n",
       "      <th>148</th>\n",
       "      <td>2B05</td>\n",
       "      <td>⬅</td>\n",
       "      <td>left arrow</td>\n",
       "    </tr>\n",
       "    <tr>\n",
       "      <th>149</th>\n",
       "      <td>2B50</td>\n",
       "      <td>⭐</td>\n",
       "      <td>star</td>\n",
       "    </tr>\n",
       "  </tbody>\n",
       "</table>\n",
       "<p>150 rows × 3 columns</p>\n",
       "</div>"
      ],
      "text/plain": [
       "    unicode emoji              name\n",
       "0     1F308     🌈           rainbow\n",
       "1     1F319     🌙     crescent moon\n",
       "2     1F31A     🌚     new moon face\n",
       "3     1F31E     🌞     sun with face\n",
       "4     1F31F     🌟      glowing star\n",
       "..      ...   ...               ...\n",
       "145    2757     ❗  exclamation mark\n",
       "146    2764     ❤         red heart\n",
       "147    27A1     ➡       right arrow\n",
       "148    2B05     ⬅        left arrow\n",
       "149    2B50     ⭐              star\n",
       "\n",
       "[150 rows x 3 columns]"
      ]
     },
     "execution_count": 12,
     "metadata": {},
     "output_type": "execute_result"
    }
   ],
   "source": [
    "table[['unicode','emoji','name']]"
   ]
  },
  {
   "cell_type": "markdown",
   "metadata": {},
   "source": [
    "## 2)"
   ]
  },
  {
   "cell_type": "code",
   "execution_count": 47,
   "metadata": {},
   "outputs": [],
   "source": [
    "emotions=list(table.columns[-8:])\n",
    "emoticons=list(table['name'])\n",
    "off_scores=np.array(table[emotions])"
   ]
  },
  {
   "cell_type": "code",
   "execution_count": 48,
   "metadata": {},
   "outputs": [],
   "source": [
    "def cosine_similarity(a,b):\n",
    "    return np.dot(a, b)/(np.linalg.norm(a)*np.linalg.norm(b))\n",
    "\n",
    "def calculate_model_scores(emotions, emoticons, embed_fun):\n",
    "    scores=np.zeros([len(emoticons),len(emotions)])\n",
    "    emotions_vec=[embed_fun(emo) for emo in emotions]\n",
    "    for i,emoticon in enumerate(emoticons):\n",
    "        emoticon_vec=embed_fun(emoticon)\n",
    "        scores[i]=[cosine_similarity(emoticon_vec,emovec) for emovec in emotions_vec]\n",
    "    return scores"
   ]
  },
  {
   "cell_type": "code",
   "execution_count": 54,
   "metadata": {},
   "outputs": [],
   "source": [
    "w2v_embed_fun=lambda x: np.random.random(5)\n",
    "word2vec_scores=calculate_model_scores(emotions,emoticons, w2v_embed_fun)"
   ]
  },
  {
   "cell_type": "code",
   "execution_count": 59,
   "metadata": {},
   "outputs": [
    {
     "data": {
      "text/plain": [
       "[PearsonRResult(statistic=0.01617757219286872, pvalue=0.8442271596338166),\n",
       " PearsonRResult(statistic=0.013375859743313652, pvalue=0.8709459955084654),\n",
       " PearsonRResult(statistic=0.11559056368858202, pvalue=0.15896154594238485),\n",
       " PearsonRResult(statistic=-0.01697255974686578, pvalue=0.8366765006369041),\n",
       " PearsonRResult(statistic=-0.016309367616514747, pvalue=0.8429743891167857),\n",
       " PearsonRResult(statistic=-0.048022703350493426, pvalue=0.5595081322551164),\n",
       " PearsonRResult(statistic=-0.0077983273668358714, pvalue=0.9245435308788551),\n",
       " PearsonRResult(statistic=0.03435069591678524, pvalue=0.6764500903621286)]"
      ]
     },
     "execution_count": 59,
     "metadata": {},
     "output_type": "execute_result"
    }
   ],
   "source": [
    "[pearsonr(off_scores[:,i],word2vec_scores[:,i]) for i in range(8)]"
   ]
  },
  {
   "cell_type": "markdown",
   "metadata": {},
   "source": [
    "## 3)"
   ]
  },
  {
   "cell_type": "code",
   "execution_count": null,
   "metadata": {},
   "outputs": [],
   "source": [
    "gl_embed_fun=lambda x: np.random.random(5)\n",
    "glove_scores=calculate_model_scores(emotions,emoticons, gl_embed_fun)"
   ]
  },
  {
   "cell_type": "code",
   "execution_count": null,
   "metadata": {},
   "outputs": [],
   "source": [
    "[pearsonr(off_scores[:,i],glove_scores[:,i]) for i in range(8)]"
   ]
  },
  {
   "cell_type": "code",
   "execution_count": null,
   "metadata": {},
   "outputs": [],
   "source": [
    "d2v_embed_fun=lambda x: np.random.random(5)\n",
    "doc2vec_scores=calculate_model_scores(emotions,emoticons, d2v_embed_fun)"
   ]
  },
  {
   "cell_type": "code",
   "execution_count": null,
   "metadata": {},
   "outputs": [],
   "source": [
    "[pearsonr(off_scores[:,i],doc2vec_scores[:,i]) for i in range(8)]"
   ]
  },
  {
   "cell_type": "code",
   "execution_count": null,
   "metadata": {},
   "outputs": [],
   "source": [
    "brt_embed_fun=lambda x: np.random.random(5)\n",
    "bert_scores=calculate_model_scores(emotions,emoticons, brt_embed_fun)"
   ]
  },
  {
   "cell_type": "code",
   "execution_count": null,
   "metadata": {},
   "outputs": [],
   "source": [
    "[pearsonr(off_scores[:,i],bert_scores[:,i]) for i in range(8)]"
   ]
  }
 ],
 "metadata": {
  "kernelspec": {
   "display_name": "Python 3",
   "language": "python",
   "name": "python3"
  },
  "language_info": {
   "codemirror_mode": {
    "name": "ipython",
    "version": 3
   },
   "file_extension": ".py",
   "mimetype": "text/x-python",
   "name": "python",
   "nbconvert_exporter": "python",
   "pygments_lexer": "ipython3",
   "version": "3.11.9"
  },
  "orig_nbformat": 4
 },
 "nbformat": 4,
 "nbformat_minor": 2
}
